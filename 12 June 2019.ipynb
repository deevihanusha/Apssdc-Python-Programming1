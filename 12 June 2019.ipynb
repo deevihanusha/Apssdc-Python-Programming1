{
 "cells": [
  {
   "cell_type": "markdown",
   "metadata": {},
   "source": [
    "## Problem Solving and Programming\n",
    "\n",
    "### Day-2 \n",
    "\n",
    "\n",
    "### Day Objectives:\n",
    "* String Slicing\n",
    "* Functions in python\n",
    "* Basic Problems related to conditional statements using functions\n",
    "* Iterations in Python\n",
    "* Python Data Structures - Lists,Tuples and Dictionaries\n",
    "        * Basic Operations on data structures\n",
    "        * Applying data structures to solve problems"
   ]
  },
  {
   "cell_type": "markdown",
   "metadata": {},
   "source": [
    "## String Slicing"
   ]
  },
  {
   "cell_type": "code",
   "execution_count": 1,
   "metadata": {},
   "outputs": [
    {
     "name": "stdout",
     "output_type": "stream",
     "text": [
      "ahsunah\n",
      "ahsuna\n",
      "nhy\n",
      "nhy\n"
     ]
    }
   ],
   "source": [
    "s=\"String\"\n",
    "\n",
    "s[0] #Accessing starting character\n",
    "\n",
    "type(s)\n",
    "\n",
    "s[-1] #Accessing last character\n",
    "\n",
    "s[len(s)-1] #Accessing by using len,get last character\n",
    "\n",
    "s[-2] # Accessing the last but one character\n",
    "\n",
    "s[0:2] # Accessing the first two characters of a string\n",
    "\n",
    "s[-2:] # Accessing the last two characters of a string\n",
    "\n",
    "s[:3] #Accessing the starting upto 3rd character\n",
    "\n",
    "s[4:] #Accessing all characters 5th character to end of a string\n",
    "\n",
    "\n",
    "# Accessing all characters except first and last character\n",
    "n=\"hhello hanushaa\"\n",
    "n[1:14]\n",
    "n[1:-1]\n",
    "\n",
    "\n",
    " #Accessing middle character in an odd length string\n",
    "h =\"hanusha\"\n",
    "h[len(h)//2]\n",
    "\n",
    "\n",
    "\n",
    "# Reverse of a string\n",
    "n1=\"hanusha\"\n",
    "print(n1[-1::-1]) \n",
    "\n",
    "print(n1[-1:0:-1]) #it doesn't display the starting character so we remove 0 in previous\n",
    "#Reverse the middle two characters in an even length string\n",
    "n1[-1:0:-2]\n",
    "n1[len(n1)//2:len(n1)//2-2:-1]\n",
    "\n",
    "\n",
    "# Accessing alternate characters in a string\n",
    "   #python --> pto\n",
    "a=\"python\"\n",
    "a[::2]\n",
    "#Accessing alternate characters of a string in reverse of order\n",
    "   #python --> nhy\n",
    "print(a[-1:0:-2])\n",
    "print(a[::-2])"
   ]
  },
  {
   "cell_type": "code",
   "execution_count": null,
   "metadata": {},
   "outputs": [],
   "source": []
  },
  {
   "cell_type": "markdown",
   "metadata": {},
   "source": [
    "### Functions"
   ]
  },
  {
   "cell_type": "code",
   "execution_count": 27,
   "metadata": {},
   "outputs": [
    {
     "data": {
      "text/plain": [
       "'nohtyp'"
      ]
     },
     "execution_count": 27,
     "metadata": {},
     "output_type": "execute_result"
    }
   ],
   "source": [
    "#function to reverse of a string\n",
    "def reverseString(s):\n",
    "    return s[::-1]\n",
    "reverseString(\"python\")"
   ]
  },
  {
   "cell_type": "code",
   "execution_count": 34,
   "metadata": {},
   "outputs": [
    {
     "data": {
      "text/plain": [
       "True"
      ]
     },
     "execution_count": 34,
     "metadata": {},
     "output_type": "execute_result"
    }
   ],
   "source": [
    "# Function to check if a string is a palindrome\n",
    "def palindrome(s):\n",
    "    if s==s[::-1]:\n",
    "        return True\n",
    "    else:\n",
    "        return False\n",
    "palindrome(\"madam\")\n",
    "palindrome(\"m\") # its true\n",
    "palindrome(\"\") #its true"
   ]
  },
  {
   "cell_type": "code",
   "execution_count": 44,
   "metadata": {},
   "outputs": [
    {
     "data": {
      "text/plain": [
       "True"
      ]
     },
     "execution_count": 44,
     "metadata": {},
     "output_type": "execute_result"
    }
   ],
   "source": [
    "# Function to check if a given year is a leap year\n",
    "def isLeapYear(year):\n",
    "    if (year%400==0 or (year%100!=0 and year%4==0)):\n",
    "        return True\n",
    "    return False\n",
    "\n",
    "isLeapYear(2020)"
   ]
  },
  {
   "cell_type": "code",
   "execution_count": 51,
   "metadata": {},
   "outputs": [
    {
     "data": {
      "text/plain": [
       "7"
      ]
     },
     "execution_count": 51,
     "metadata": {},
     "output_type": "execute_result"
    }
   ],
   "source": [
    "# Function to count the number of digits in a given number\n",
    "def noofdigits(s):\n",
    "    return len(str(s))\n",
    "noofdigits(\"hanusha\")"
   ]
  },
  {
   "cell_type": "code",
   "execution_count": 48,
   "metadata": {},
   "outputs": [
    {
     "data": {
      "text/plain": [
       "'c is greater'"
      ]
     },
     "execution_count": 48,
     "metadata": {},
     "output_type": "execute_result"
    }
   ],
   "source": [
    "# Function to identify the greatest of 4 numbers\n",
    "def greatestoffour(a,b,c,d):\n",
    "    if a>b and a>c and a>d:\n",
    "        return (\" a is bigger\")\n",
    "    elif b>c and b>d and b>a:\n",
    "        return(\"b is greater\")\n",
    "    elif c>d and c>a and c>b:\n",
    "        return (\"c is greater\")\n",
    "    else:\n",
    "        return(\"d is greater\")\n",
    "greatestoffour(10,60,100,40)"
   ]
  },
  {
   "cell_type": "code",
   "execution_count": null,
   "metadata": {},
   "outputs": [],
   "source": []
  },
  {
   "cell_type": "markdown",
   "metadata": {},
   "source": [
    "## Iteration\n",
    "\n",
    "* for \n",
    "* while"
   ]
  },
  {
   "cell_type": "code",
   "execution_count": 62,
   "metadata": {},
   "outputs": [
    {
     "name": "stdout",
     "output_type": "stream",
     "text": [
      "1 2 3 4 5 6 7 8 9 10 11 12 13 14 15 16 17 18 19 20 21 22 23 24 25 26 27 28 29 30 31 32 33 34 35 36 37 38 39 40 41 42 43 44 45 46 47 48 49 50 "
     ]
    }
   ],
   "source": [
    "# FUnction to print n natural numbers using for loop\n",
    "def natural(n):\n",
    "    for i in range (1,n+1):\n",
    "        print(i, end = \" \")\n",
    "    return\n",
    "natural(50)\n",
    "\n"
   ]
  },
  {
   "cell_type": "code",
   "execution_count": 89,
   "metadata": {},
   "outputs": [
    {
     "name": "stdout",
     "output_type": "stream",
     "text": [
      "1 2 3 4 5 6 "
     ]
    }
   ],
   "source": [
    "#FUnction to print n natural numbers using while loop\n",
    "def nnatural(n):\n",
    "    i = 1\n",
    "    while i<= n:\n",
    "        print(i, end = \" \")\n",
    "        i=i+1\n",
    "    return\n",
    "nnatural(6)"
   ]
  },
  {
   "cell_type": "code",
   "execution_count": null,
   "metadata": {},
   "outputs": [],
   "source": [
    "#function to print all numbers divisible  6 and not a factor of 100 (in range lb,ub) inclusive\n",
    "def div(lb,ub,n):\n",
    "    for i in range(lb,ub+1):\n",
    "        if n%6==0 and 100%n!=0:\n",
    "            print(\"divisible by 6 not a factor of 100\",i)\n",
    "    else:\n",
    "        print(\" divisible not factor\",i)\n",
    "div(100,200,30)"
   ]
  },
  {
   "cell_type": "code",
   "execution_count": 147,
   "metadata": {},
   "outputs": [
    {
     "data": {
      "text/plain": [
       "129346.88"
      ]
     },
     "execution_count": 147,
     "metadata": {},
     "output_type": "execute_result"
    }
   ],
   "source": [
    "# Function to find the average of cubes of all even numbers in a given range (lb,ub) inclusive\n",
    "# 1,10 --> 2,4,6,8,10 --> avg(2^3=8,64,216)\n",
    "def avg(lb,ub):\n",
    "    sum=0\n",
    "    for i in range(lb,ub+1):\n",
    "        if i%2==0:\n",
    "            sum+=i**3\n",
    "    return sum/(ub-lb)\n",
    "avg(50,75)"
   ]
  },
  {
   "cell_type": "code",
   "execution_count": 150,
   "metadata": {},
   "outputs": [
    {
     "name": "stdout",
     "output_type": "stream",
     "text": [
      "1 2 3 4 6 12\n"
     ]
    }
   ],
   "source": [
    "# Function to generate the list of factors for a given number\n",
    "#12 --> 1 2 3 4 6 12\n",
    "def fact(n):\n",
    "    i=0\n",
    "    for i in range(1,n//2+1):\n",
    "        if n%i==0:\n",
    "            print(i,end = \" \")\n",
    "    print(n)\n",
    "    return\n",
    "fact(12)"
   ]
  },
  {
   "cell_type": "code",
   "execution_count": 167,
   "metadata": {},
   "outputs": [
    {
     "data": {
      "text/plain": [
       "479001600"
      ]
     },
     "execution_count": 167,
     "metadata": {},
     "output_type": "execute_result"
    }
   ],
   "source": [
    "#FUnction to Calculate the factorial of a given number\n",
    "def fact1(n):\n",
    "    fact=1\n",
    "    for i in range(2,n+1):\n",
    "        fact *=i\n",
    "    return fact\n",
    "fact1(12)"
   ]
  },
  {
   "cell_type": "code",
   "execution_count": 159,
   "metadata": {},
   "outputs": [
    {
     "data": {
      "text/plain": [
       "True"
      ]
     },
     "execution_count": 159,
     "metadata": {},
     "output_type": "execute_result"
    }
   ],
   "source": [
    "#Function to check if a given number is Prime\n",
    "def isPrime(n):\n",
    "    flag = True\n",
    "    for i in range(2,n//2):\n",
    "        if n%i ==0:\n",
    "            flag=False\n",
    "            return flag\n",
    "    return flag\n",
    "isPrime(4)"
   ]
  },
  {
   "cell_type": "code",
   "execution_count": 160,
   "metadata": {},
   "outputs": [
    {
     "data": {
      "text/plain": [
       "10.4"
      ]
     },
     "execution_count": 160,
     "metadata": {},
     "output_type": "execute_result"
    }
   ],
   "source": [
    "#Function to calculate the average first N prime NUmbers\n",
    "def isPrime1(n):\n",
    "    primeCount=0\n",
    "    sum=0\n",
    "    seqCount=2\n",
    "    while(primeCount < n):\n",
    "        if isPrime(seqCount):\n",
    "            primeCount+=1\n",
    "            sum+=seqCount\n",
    "        seqCount +=1\n",
    "    return sum/n\n",
    "isPrime1(10)"
   ]
  },
  {
   "cell_type": "code",
   "execution_count": 88,
   "metadata": {},
   "outputs": [
    {
     "data": {
      "text/plain": [
       "2.0"
      ]
     },
     "execution_count": 88,
     "metadata": {},
     "output_type": "execute_result"
    }
   ],
   "source": [
    "12/6"
   ]
  },
  {
   "cell_type": "code",
   "execution_count": 67,
   "metadata": {},
   "outputs": [
    {
     "name": "stdout",
     "output_type": "stream",
     "text": [
      "7\n",
      "10\n",
      "6\n",
      "-6\n",
      "0\n",
      "0\n"
     ]
    }
   ],
   "source": [
    "print(2 and 7)\n",
    "print(7 and 10)\n",
    "print(-7 and 6)\n",
    "print(-5 and -6)\n",
    "print(0 and 5)\n",
    "print(5 and 0)"
   ]
  },
  {
   "cell_type": "code",
   "execution_count": 70,
   "metadata": {},
   "outputs": [
    {
     "name": "stdout",
     "output_type": "stream",
     "text": [
      "2\n",
      "7\n",
      "-7\n",
      "-5\n",
      "5\n",
      "5\n"
     ]
    }
   ],
   "source": [
    "print(2 or 7)\n",
    "print(7 or 10)\n",
    "print(-7 or 6)\n",
    "print(-5 | -6)\n",
    "print(0 or 5)\n",
    "print(5 or 0)"
   ]
  },
  {
   "cell_type": "code",
   "execution_count": 77,
   "metadata": {},
   "outputs": [
    {
     "name": "stdout",
     "output_type": "stream",
     "text": [
      "2\n",
      "1\n",
      "0\n",
      "1\n"
     ]
    }
   ],
   "source": [
    "print(True + True)\n",
    "print(True + False)\n",
    "print(False + False)\n",
    "print(False + True)"
   ]
  },
  {
   "cell_type": "code",
   "execution_count": 80,
   "metadata": {},
   "outputs": [
    {
     "data": {
      "text/plain": [
       "'ggg'"
      ]
     },
     "execution_count": 80,
     "metadata": {},
     "output_type": "execute_result"
    }
   ],
   "source": [
    "\"good\"+\"morning\"\n",
    "\"g\"*3\n",
    "3*\"g\""
   ]
  },
  {
   "cell_type": "code",
   "execution_count": 87,
   "metadata": {},
   "outputs": [
    {
     "name": "stdout",
     "output_type": "stream",
     "text": [
      "zero\n"
     ]
    }
   ],
   "source": [
    "if 1:\n",
    "    print(\"zero\")\n",
    "else:\n",
    "    print(\"not a zero\")"
   ]
  },
  {
   "cell_type": "code",
   "execution_count": 86,
   "metadata": {},
   "outputs": [],
   "source": [
    "i=0\n",
    "while 0:\n",
    "    print(i)\n",
    "    i=i+1"
   ]
  },
  {
   "cell_type": "code",
   "execution_count": 50,
   "metadata": {},
   "outputs": [
    {
     "name": "stdout",
     "output_type": "stream",
     "text": [
      "12\n"
     ]
    }
   ],
   "source": [
    "for i in range (12,12):\n",
    "    print(i)# it doesn't display any value as output\n",
    "for i in range(12,13):\n",
    "    print(i)"
   ]
  },
  {
   "cell_type": "markdown",
   "metadata": {},
   "source": [
    "## Some basic problems on 13 June"
   ]
  },
  {
   "cell_type": "code",
   "execution_count": 1,
   "metadata": {},
   "outputs": [
    {
     "name": "stdout",
     "output_type": "stream",
     "text": [
      "100 102 104 106 108 110 112 114 116 118 120 122 124 126 128 130 132 134 136 138 140 142 144 146 148 150 "
     ]
    }
   ],
   "source": [
    "#Function to print alternate values in a range in the same line\n",
    "def alternate(start,end):\n",
    "    for i in range(start,end+1,2):\n",
    "        print(i,end= \" \")\n",
    "    return\n",
    "alternate(100,150)\n",
    "    "
   ]
  },
  {
   "cell_type": "code",
   "execution_count": 4,
   "metadata": {},
   "outputs": [
    {
     "name": "stdout",
     "output_type": "stream",
     "text": [
      "100 98 96 94 92 90 88 86 84 82 80 78 76 74 72 70 68 66 64 62 60 58 56 54 52 50 "
     ]
    }
   ],
   "source": [
    "#Functions to print reverse of given range in the inclusive\n",
    "#(500,100) -->\n",
    "#[50,100] -->\n",
    "def reverse(start,end):\n",
    "    for i in range(end,start-1,-2):\n",
    "        print(i,end=\" \")\n",
    "    return\n",
    "reverse(50,100)"
   ]
  },
  {
   "cell_type": "code",
   "execution_count": 6,
   "metadata": {},
   "outputs": [
    {
     "name": "stdout",
     "output_type": "stream",
     "text": [
      "1 3 5 7 9 "
     ]
    }
   ],
   "source": [
    "#Functions to print the odd numbers with in a range\n",
    "def odd(start,end):\n",
    "    for i in range(start,end+1):\n",
    "        if i%2!=0:\n",
    "            print(i, end = \" \")\n",
    "    return\n",
    "odd(1,9)\n",
    "    "
   ]
  },
  {
   "cell_type": "code",
   "execution_count": 18,
   "metadata": {},
   "outputs": [
    {
     "name": "stdout",
     "output_type": "stream",
     "text": [
      "9 7 5 3 1 "
     ]
    }
   ],
   "source": [
    "#Functions to print the odd numbers with in a range in reverse order\n",
    "def oddreverse(start,end):\n",
    "    for i in range(end,start-1,-1):\n",
    "        if i%2!=0:\n",
    "            print(i,end=\" \")\n",
    "    return\n",
    "oddreverse(1,9)"
   ]
  },
  {
   "cell_type": "code",
   "execution_count": 20,
   "metadata": {},
   "outputs": [
    {
     "data": {
      "text/plain": [
       "15"
      ]
     },
     "execution_count": 20,
     "metadata": {},
     "output_type": "execute_result"
    }
   ],
   "source": [
    "#Function to calculate the sum of numbers in a range\n",
    "def sumofnumbers(start,end):\n",
    "    sum=0\n",
    "    for i in range(start,end+1):\n",
    "        sum=sum+i\n",
    "    return sum\n",
    "sumofnumbers(1,5)"
   ]
  },
  {
   "cell_type": "code",
   "execution_count": 24,
   "metadata": {},
   "outputs": [
    {
     "data": {
      "text/plain": [
       "3.0"
      ]
     },
     "execution_count": 24,
     "metadata": {},
     "output_type": "execute_result"
    }
   ],
   "source": [
    "#Function to average of a given range\n",
    "def sum_average(start,end):\n",
    "    sum=0\n",
    "    diff=end-start+1\n",
    "    for i in range(start,end+1):\n",
    "        sum=sum+i\n",
    "    return sum/diff\n",
    "sum_average(1,5)"
   ]
  },
  {
   "cell_type": "code",
   "execution_count": 32,
   "metadata": {},
   "outputs": [
    {
     "name": "stdout",
     "output_type": "stream",
     "text": [
      "2000 2004 2008 "
     ]
    }
   ],
   "source": [
    "# Function to generate all leap years in a given range\n",
    "def all_leapyears(start,end):\n",
    "    for year in range(start,end+1):\n",
    "        if year%400==0 or (year%100!=0 and year%4==0):\n",
    "            print(year,end=\" \")\n",
    "    return\n",
    "all_leapyears(2000,2010)\n",
    "            "
   ]
  },
  {
   "cell_type": "code",
   "execution_count": 58,
   "metadata": {},
   "outputs": [
    {
     "data": {
      "text/plain": [
       "730"
      ]
     },
     "execution_count": 58,
     "metadata": {},
     "output_type": "execute_result"
    }
   ],
   "source": [
    "#Number of days in a time period\n",
    "def numberofdays(startyear,endyear):\n",
    "    diff=0\n",
    "    for year in range(startyear,endyear+1,1):\n",
    "        if year%400==0 or (year%100!=0 and year%4==0):\n",
    "            diff=diff+366\n",
    "        else:\n",
    "            diff=diff+365\n",
    "    return diff\n",
    "\n",
    "all_leapyears(2017,2018)"
   ]
  },
  {
   "cell_type": "code",
   "execution_count": 63,
   "metadata": {},
   "outputs": [
    {
     "data": {
      "text/plain": [
       "170184"
      ]
     },
     "execution_count": 63,
     "metadata": {},
     "output_type": "execute_result"
    }
   ],
   "source": [
    "#Function to calculate number of hours for a given range\n",
    "#number of hours(5,2019,6,2019)\n",
    "#Num of hours=24 * Number of days\n",
    "#2,2016,6,2019\n",
    "#   [all days from feb 2016 to dec 2016\n",
    "#    all days for years between 2016+1 and 2019-1,\n",
    "#     all days from jan to june 2019]\n",
    "#3 steps:\n",
    "        #start month year to end of year - Calculate no of\n",
    "        #Calculate days for all years between start year\n",
    "            #2017,2018 - 365 *no of years\n",
    "        #calculate days from jan to end month year\n",
    "#Excluding febuary\n",
    "# First Six months -1,3,4,5,6,7\n",
    "        #All odd months have 31 days\n",
    "        #All even numbers have 30 days\n",
    "# Last Six Months - 8,9,10,11,12\n",
    "        #All even months have 31 days\n",
    "        #all odd months have 30 days\n",
    "# 31 days -- (month<=7 and month%!=2) // (month<=12)\n",
    "       #         return 31\n",
    "      #  else\n",
    "       #         return 30\n",
    "def numofmonth(month,year):\n",
    "    if month ==2:\n",
    "        if year%400==0 or (year%100!=0 and year%4==0):\n",
    "            return 29\n",
    "        return 28\n",
    "    elif (month <=7 and month %2!=0) or (month >=12):\n",
    "        return 31\n",
    "    else:\n",
    "        return 30\n",
    "numofmonth(4,2019)\n",
    "\n",
    "\n",
    "\n",
    "\n",
    "\n",
    "#step 1\n",
    "\n",
    "def daysInStartYear(startmonth,startyear):\n",
    "    days=0\n",
    "    for month in range(startmonth,13):\n",
    "        days +=numofmonth(month,startyear)\n",
    "    return days\n",
    "\n",
    "\n",
    "#End year\n",
    "def daysInEndYear(endmonth,endyear):\n",
    "    days=0\n",
    "    for month in range(1,endmonth+1):\n",
    "        days +=numofmonth(month,endyear)\n",
    "    return days\n",
    "\n",
    "\n",
    "\n",
    "\n",
    "def numberofhours(startmonth,startyear,endmonth,endyear):\n",
    "    days=0\n",
    "    days += daysInStartYear(startmonth,startyear)\n",
    "    days += daysInEndYear(endmonth,endyear)\n",
    "    if endyear - startyear ==2:\n",
    "        days += numberofdays(startyear+1,startyear+1)\n",
    "    elif endyear-startyear >= 2:\n",
    "        days += numberofdays(startyear+1,endyear-1)\n",
    "    else:\n",
    "        for month in range(startmonth,endmonth):\n",
    "            days +=numofmonth(month,startyear)\n",
    "    return 24*days\n",
    "numberofhours(11,1975,3,1995)\n"
   ]
  },
  {
   "cell_type": "code",
   "execution_count": null,
   "metadata": {},
   "outputs": [],
   "source": []
  },
  {
   "cell_type": "code",
   "execution_count": null,
   "metadata": {},
   "outputs": [],
   "source": []
  }
 ],
 "metadata": {
  "kernelspec": {
   "display_name": "Python 3",
   "language": "python",
   "name": "python3"
  },
  "language_info": {
   "codemirror_mode": {
    "name": "ipython",
    "version": 3
   },
   "file_extension": ".py",
   "mimetype": "text/x-python",
   "name": "python",
   "nbconvert_exporter": "python",
   "pygments_lexer": "ipython3",
   "version": "3.7.3"
  }
 },
 "nbformat": 4,
 "nbformat_minor": 2
}
