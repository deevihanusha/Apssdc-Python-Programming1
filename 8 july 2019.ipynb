{
 "cells": [
  {
   "cell_type": "code",
   "execution_count": 2,
   "metadata": {},
   "outputs": [
    {
     "name": "stdout",
     "output_type": "stream",
     "text": [
      "2\n",
      "even number\n"
     ]
    }
   ],
   "source": [
    "#Even or odd\n",
    "n=int(input())\n",
    "if n%2==0:\n",
    "    print(\"even number\")\n",
    "else:\n",
    "    print(\"odd number\")"
   ]
  },
  {
   "cell_type": "code",
   "execution_count": 8,
   "metadata": {},
   "outputs": [
    {
     "name": "stdout",
     "output_type": "stream",
     "text": [
      "6\n",
      "13\n"
     ]
    }
   ],
   "source": [
    "#Nth fibonacci\n",
    "#start=int(input())\n",
    "n=int(input())\n",
    "f1=0\n",
    "f2=1\n",
    "temp=0\n",
    "for i in range(0,n,1):\n",
    "    temp=f1\n",
    "    f1=f2\n",
    "    f2=temp+f1  \n",
    "print(f2)\n"
   ]
  },
  {
   "cell_type": "code",
   "execution_count": 13,
   "metadata": {},
   "outputs": [
    {
     "name": "stdout",
     "output_type": "stream",
     "text": [
      "900 1000\n",
      "907 911 919 929 937 941 947 953 967 971 977 983 991 997 "
     ]
    }
   ],
   "source": [
    "# prime numbers is in given range\n",
    "start,end=map(int,input().split())\n",
    "for n in range(start,end+1,1):\n",
    "    for i in range(2,n,1):\n",
    "        if n%i==0:\n",
    "            break\n",
    "    else:\n",
    "        print(n,end=\" \")"
   ]
  },
  {
   "cell_type": "code",
   "execution_count": 1,
   "metadata": {},
   "outputs": [
    {
     "name": "stdout",
     "output_type": "stream",
     "text": [
      "mam\n",
      "palindrome\n"
     ]
    }
   ],
   "source": [
    "#palindrome or not\n",
    "s=input()\n",
    "if s==s[::-1]:\n",
    "    print(\"palindrome\")\n",
    "else:\n",
    "    print(\"not palindrome\")"
   ]
  },
  {
   "cell_type": "code",
   "execution_count": 15,
   "metadata": {},
   "outputs": [
    {
     "name": "stdout",
     "output_type": "stream",
     "text": [
      "6\n",
      "1\n",
      "2\n",
      "3\n",
      "6\n"
     ]
    }
   ],
   "source": [
    "# perfect number\n",
    "num=int(input())\n",
    "sum=0\n",
    "for i in range(1,num,1):\n",
    "    if num%i==0:\n",
    "        sum=sum+i\n",
    "        print(i)\n",
    "print(sum)"
   ]
  },
  {
   "cell_type": "code",
   "execution_count": null,
   "metadata": {},
   "outputs": [],
   "source": []
  },
  {
   "cell_type": "code",
   "execution_count": null,
   "metadata": {},
   "outputs": [],
   "source": []
  },
  {
   "cell_type": "code",
   "execution_count": null,
   "metadata": {},
   "outputs": [],
   "source": []
  },
  {
   "cell_type": "code",
   "execution_count": null,
   "metadata": {},
   "outputs": [],
   "source": []
  },
  {
   "cell_type": "code",
   "execution_count": null,
   "metadata": {},
   "outputs": [],
   "source": []
  },
  {
   "cell_type": "code",
   "execution_count": null,
   "metadata": {},
   "outputs": [],
   "source": []
  },
  {
   "cell_type": "code",
   "execution_count": null,
   "metadata": {},
   "outputs": [],
   "source": []
  },
  {
   "cell_type": "markdown",
   "metadata": {},
   "source": [
    "## Tasks"
   ]
  },
  {
   "cell_type": "code",
   "execution_count": 12,
   "metadata": {},
   "outputs": [
    {
     "name": "stdout",
     "output_type": "stream",
     "text": [
      "1 600\n",
      "6 12 18 24 30 36 42 48 54 60 66 72 78 84 90 96 102 108 114 120 126 132 138 144 150 156 162 168 174 180 186 192 198 204 210 216 222 228 234 240 246 252 258 264 270 276 282 288 294 306 312 318 324 330 336 342 348 354 360 366 372 378 384 390 396 402 408 414 420 426 432 438 444 450 456 462 468 474 480 486 492 498 504 510 516 522 528 534 540 546 552 558 564 570 576 582 588 594 "
     ]
    }
   ],
   "source": [
    "#Function to print all numbers divisible by 6 and not a factor of 100 in \n",
    "#a given range(lb, ub) inclusive\n",
    "def div(start,end):\n",
    "    for i in range(start,end+1,1):\n",
    "        if i%6==0 and i%100!=0:\n",
    "            print(i,end = \" \")\n",
    "        \n",
    "start,end=map(int,input().split())\n",
    "div(start,end)"
   ]
  },
  {
   "cell_type": "code",
   "execution_count": 56,
   "metadata": {},
   "outputs": [
    {
     "name": "stdout",
     "output_type": "stream",
     "text": [
      "1 5\n",
      "36.0\n"
     ]
    }
   ],
   "source": [
    "#Function to find the average of cubes of all even numbers in a given range(lb, ub) inclusive\n",
    "def avgofcubesofeven(start,end):\n",
    "    sum=0\n",
    "    count=0\n",
    "    for i in range(start,end+1):\n",
    "        if i%2==0:\n",
    "            cubes=(i*i*i)\n",
    "            sum=sum+cubes\n",
    "            count+=1\n",
    "    avg=sum/count\n",
    "    print(avg)\n",
    "        \n",
    "\n",
    "start,end=map(int,input().split())\n",
    "avgofcubesofeven(start,end)"
   ]
  },
  {
   "cell_type": "code",
   "execution_count": 16,
   "metadata": {},
   "outputs": [
    {
     "data": {
      "text/plain": [
       "11"
      ]
     },
     "execution_count": 16,
     "metadata": {},
     "output_type": "execute_result"
    }
   ],
   "source": [
    "import math\n",
    "a=10.6\n",
    "b=math.ceil(a)\n",
    "b"
   ]
  },
  {
   "cell_type": "code",
   "execution_count": 59,
   "metadata": {},
   "outputs": [
    {
     "name": "stdout",
     "output_type": "stream",
     "text": [
      "6\n",
      "1 2 3 4 5 6 720\n"
     ]
    }
   ],
   "source": [
    "#Function to calculate the factorial of a given number\n",
    "def factorial(n):\n",
    "    fact=1\n",
    "    for i in range(1,n+1,1):\n",
    "        fact=fact*i\n",
    "        print(i,end=\" \")\n",
    "    print(fact)\n",
    "    \n",
    "n=int(input())\n",
    "factorial(n)"
   ]
  },
  {
   "cell_type": "code",
   "execution_count": 64,
   "metadata": {},
   "outputs": [
    {
     "name": "stdout",
     "output_type": "stream",
     "text": [
      "6\n",
      "1\n",
      "2\n",
      "3\n",
      "6\n"
     ]
    }
   ],
   "source": [
    "#Function to generate the list of factors for a given number\n",
    "def listoffactors(n):\n",
    "    for i in range(1,n+1,1):\n",
    "        if n%i==0:\n",
    "            print(i)\n",
    "\n",
    "n=int(input())\n",
    "listoffactors(n)"
   ]
  },
  {
   "cell_type": "code",
   "execution_count": 24,
   "metadata": {},
   "outputs": [
    {
     "name": "stdout",
     "output_type": "stream",
     "text": [
      "13\n",
      "prime\n"
     ]
    }
   ],
   "source": [
    "#Function to check if a given number is Prime\n",
    "def prime(n):\n",
    "    c=0\n",
    "    for i in range(2,n+1,1):\n",
    "        if n%i==0:\n",
    "            c+=1\n",
    "    if(c==1):\n",
    "       print(\"prime\")\n",
    "    else:\n",
    "        print(\"not prime\")\n",
    "\n",
    "n=int(input())\n",
    "prime(n)"
   ]
  },
  {
   "cell_type": "code",
   "execution_count": 26,
   "metadata": {},
   "outputs": [
    {
     "name": "stdout",
     "output_type": "stream",
     "text": [
      "1 5\n",
      "3\n"
     ]
    }
   ],
   "source": [
    "#Function to calculate the average first N Prime numbers\n",
    "\n",
    "def prime(n):\n",
    "    c=0\n",
    "    for i in range(2,n+1,1):\n",
    "        if n%i==0:\n",
    "            c+=1\n",
    "    if(c==1):\n",
    "        return True\n",
    "    return False\n",
    "\n",
    "def primeavg(start,end):\n",
    "    sum=0\n",
    "    c=0\n",
    "    for i in range(start,end+1):\n",
    "        if prime(i):\n",
    "            sum=sum+i\n",
    "            c+=1\n",
    "    avg=sum/c\n",
    "    print(c)\n",
    "\n",
    "start,end=map(int,input().split())\n",
    "primeavg(start,end)"
   ]
  },
  {
   "cell_type": "code",
   "execution_count": 5,
   "metadata": {},
   "outputs": [
    {
     "name": "stdout",
     "output_type": "stream",
     "text": [
      "8128\n",
      "1\n",
      "2\n",
      "4\n",
      "8\n",
      "16\n",
      "32\n",
      "64\n",
      "127\n",
      "254\n",
      "508\n",
      "1016\n",
      "2032\n",
      "4064\n",
      "perfect number\n"
     ]
    }
   ],
   "source": [
    "#Function to generate all Perfect numbers in a given range\n",
    "def perfect(n):\n",
    "    sum=0\n",
    "    for i in range(1,n,1):\n",
    "        if n%i==0:\n",
    "            print(i)\n",
    "            sum=sum+i\n",
    "    if n==sum:\n",
    "        print(\"perfect number\")\n",
    "    else:\n",
    "        print(\"not perfect\")\n",
    "n=int(input())\n",
    "perfect(n)"
   ]
  },
  {
   "cell_type": "markdown",
   "metadata": {},
   "source": [
    "## Advanced Problem Set( Optional )"
   ]
  },
  {
   "cell_type": "code",
   "execution_count": 40,
   "metadata": {},
   "outputs": [
    {
     "name": "stdout",
     "output_type": "stream",
     "text": [
      "1 5\n",
      "30.6\n"
     ]
    }
   ],
   "source": [
    "#Function to calculate the average of all factorials in a given range\n",
    "def fact(n):\n",
    "    fact=1\n",
    "    for i in range(1,n+1,1):\n",
    "        fact=fact*i\n",
    "    return fact\n",
    "def avgfact(start,end):\n",
    "    sum=0\n",
    "    c=0\n",
    "    for i in range(start,end+1):\n",
    "        sum=sum+fact(i)\n",
    "        #print(sum)\n",
    "        c+=1\n",
    "    avg=sum/c\n",
    "    print(avg)\n",
    "start,end=map(int,input().split())\n",
    "avgfact(start,end)"
   ]
  },
  {
   "cell_type": "code",
   "execution_count": 2,
   "metadata": {},
   "outputs": [
    {
     "name": "stdout",
     "output_type": "stream",
     "text": [
      "100 2000\n",
      "153 armstrong\n",
      "371 armstrong\n",
      "407 armstrong\n"
     ]
    }
   ],
   "source": [
    "#Function to generate N odd Armstrong numbers\n",
    "def oddarmstrong(start,end):\n",
    "    #t=int(input())\n",
    "   \n",
    "    for n in range(start,end+1,1):\n",
    "        order = len(str(n))\n",
    "        sum=0\n",
    "        temp=n\n",
    "        if n%2!=0:\n",
    "            while temp > 0:\n",
    "                digit=temp%10\n",
    "                sum +=digit**order\n",
    "                temp//=10\n",
    "            if n==sum:\n",
    "                print(n,\"armstrong\")\n",
    "\n",
    "start,end=map(int,input().split())\n",
    "oddarmstrong(start,end)\n",
    "        "
   ]
  },
  {
   "cell_type": "code",
   "execution_count": 1,
   "metadata": {},
   "outputs": [
    {
     "name": "stdout",
     "output_type": "stream",
     "text": [
      "10\n",
      "10 x 100 = 1000\n",
      "10 x 101 = 1010\n",
      "10 x 102 = 1020\n"
     ]
    }
   ],
   "source": [
    "#Function to generate Multiplication table for a number in a given range\n",
    "#10 in the range(100, 102) inclusive\n",
    "#10 x 100 = 1000\n",
    "#10 x 101 = 1010\n",
    "#10 x 102 = 1020\n",
    "\n",
    "def table(start,end):\n",
    "    for i in range(start,end+1,1):\n",
    "        print(n, \"x\" ,i , \"=\" , n*i)\n",
    "\n",
    "n=int(input())\n",
    "table(100,102)"
   ]
  },
  {
   "cell_type": "code",
   "execution_count": 12,
   "metadata": {},
   "outputs": [
    {
     "name": "stdout",
     "output_type": "stream",
     "text": [
      "hanusha\n",
      "HANUSHA\n"
     ]
    }
   ],
   "source": [
    "#You are given a string and your task is to swap cases. In other words,\n",
    "#convert all lowercase letters to uppercase letters \n",
    "#and vice versa. (The String may contain special characters).\n",
    "def swap(s):\n",
    "    print(s.swapcase())\n",
    "s=input()    \n",
    "swap(s)\n"
   ]
  },
  {
   "cell_type": "code",
   "execution_count": 4,
   "metadata": {},
   "outputs": [
    {
     "name": "stdout",
     "output_type": "stream",
     "text": [
      "16\n",
      "Weird\n"
     ]
    }
   ],
   "source": [
    "#Given an integer, ’n’ , perform the following conditional actions:\n",
    "#If ‘n’  is odd, print Weird\n",
    "#If  ‘n’ is even and in the inclusive range of 2 to 5, print Not Weird\n",
    "#If  ‘n’ is even and in the inclusive range of 6 to 20 , print Weird\n",
    "#If  ‘n’ is even and greater than 20, print Not Weird\n",
    "\n",
    "\n",
    "n=int(input())\n",
    "if n%2!=0:\n",
    "    print(\"Weird\")\n",
    "elif 2<=n<=5 and n%2==0:\n",
    "    print(\"Not Weird\")\n",
    "elif 6<=n<=20 and n%2==0:\n",
    "    print(\"Weird\")\n",
    "elif n>20:\n",
    "    print(\"Not Weird\")"
   ]
  },
  {
   "cell_type": "code",
   "execution_count": null,
   "metadata": {},
   "outputs": [],
   "source": [
    "#Given the participants ‘n’ score sheet for your University Sports Day,\n",
    "#you are required to find the runner-up score. You are given scores. \n",
    "#Store them in a list and find the score of the runner-up. (there can be multiple winners - if their scores match).\n"
   ]
  },
  {
   "cell_type": "code",
   "execution_count": 26,
   "metadata": {},
   "outputs": [
    {
     "name": "stdout",
     "output_type": "stream",
     "text": [
      "[500, 100, 60, 50, 30, 20]\n",
      "1 sumanth\n",
      "2 deevi\n",
      "3 siva prasad\n",
      "4 badulla\n",
      "5 hanusha\n",
      "6 sana sudha\n",
      "7 Pavan\n"
     ]
    }
   ],
   "source": [
    "#Given all the individual scores 10 batsman using with their names\n",
    "#print their rankings based on the scores\n",
    "# Example:\n",
    "    #hanusha : 50\n",
    "    #deevi :100\n",
    "    #sumanth :500\n",
    "    #sana sudha : 300\n",
    "    #siva prasad : 100\n",
    "    #Pavan :20\n",
    "    #badulla : 60\n",
    "    \n",
    "dic={\"hanusha\" : 50,\"deevi\" : 100,\"sumanth\" : 500, \"sana sudha\" : 30,\"siva prasad\" : 100,\"Pavan\" : 20,\"badulla\" : 60}\n",
    "l=[]\n",
    "count=0\n",
    "a=list(set(dic.values()))\n",
    "a=sorted(a, reverse =True)\n",
    "print(a)\n",
    "for i in a:\n",
    "    for item in dic.items():\n",
    "        if i==item[1]:\n",
    "            count+=1\n",
    "            print(count,item[0])"
   ]
  },
  {
   "cell_type": "code",
   "execution_count": 25,
   "metadata": {},
   "outputs": [
    {
     "name": "stdout",
     "output_type": "stream",
     "text": [
      "10\n",
      "15\n",
      "1 5 "
     ]
    }
   ],
   "source": [
    "# Given two integers find out the common factors for 10 and 15 (use only 1 loop)\n",
    "n1=int(input())\n",
    "n2=int(input())\n",
    "for i in range(1,100):\n",
    "    if n1%i==0 and n2%i==0:\n",
    "        print(i,end=\" \")\n",
    "        "
   ]
  },
  {
   "cell_type": "code",
   "execution_count": null,
   "metadata": {},
   "outputs": [],
   "source": []
  }
 ],
 "metadata": {
  "kernelspec": {
   "display_name": "Python 3",
   "language": "python",
   "name": "python3"
  },
  "language_info": {
   "codemirror_mode": {
    "name": "ipython",
    "version": 3
   },
   "file_extension": ".py",
   "mimetype": "text/x-python",
   "name": "python",
   "nbconvert_exporter": "python",
   "pygments_lexer": "ipython3",
   "version": "3.7.3"
  }
 },
 "nbformat": 4,
 "nbformat_minor": 2
}
