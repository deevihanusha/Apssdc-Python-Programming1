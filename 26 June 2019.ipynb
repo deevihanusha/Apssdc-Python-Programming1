{
 "cells": [
  {
   "cell_type": "code",
   "execution_count": 3,
   "metadata": {},
   "outputs": [
    {
     "data": {
      "text/plain": [
       "-1"
      ]
     },
     "execution_count": 3,
     "metadata": {},
     "output_type": "execute_result"
    }
   ],
   "source": [
    "def kSmallest(li,k):\n",
    "    #\n",
    "    unique=[]\n",
    "    for i in li:\n",
    "        if i not in unique:\n",
    "            unique.append(i)\n",
    "    #Sort the Unique list in descending order\n",
    "    unique = sorted(unique)\n",
    "    #check if length of unique list is greater than are equal to k\n",
    "    if len(unique) >= k:\n",
    "        unique[k-1]\n",
    "    return -1\n",
    "kSmallest([3,3,9],2)"
   ]
  },
  {
   "cell_type": "code",
   "execution_count": 29,
   "metadata": {},
   "outputs": [
    {
     "name": "stdout",
     "output_type": "stream",
     "text": [
      "[]\n",
      "[1]\n"
     ]
    },
    {
     "data": {
      "text/plain": [
       "1"
      ]
     },
     "execution_count": 29,
     "metadata": {},
     "output_type": "execute_result"
    }
   ],
   "source": [
    "#Element with high frequency in a list\n",
    "# If many elements have the highest frequency,return the smallest\n",
    "#Highest Frequency of ([1,2,3,9,8,7,4,3,2,1])\n",
    "def highest_frequency_Element(li):\n",
    "    a={}\n",
    "    for i in li:\n",
    "        if i not in a:\n",
    "            a[i] = 1\n",
    "        else:\n",
    "            a[i] += 1\n",
    "        #a={1:2,2:2,3:2,4:1,7:1,8:1,9:1}\n",
    "    #Getting all frequencies in to a list\n",
    "        maxfreq=max(a.values())\n",
    "        maxfreqkeys=[]\n",
    "        print(maxfreqkeys)\n",
    "    #Identify the smallest number with maximum frequencies\n",
    "        for item in a.items():\n",
    "            if item[1] == maxfreq:\n",
    "                maxfreqkeys.append(item[0])\n",
    "        print(maxfreqkeys)\n",
    "    #Select the minimum from the key\n",
    "        return min(maxfreqkeys) #minfreq\n",
    "highest_frequency_Element([1,2,3,9,8,7,4,3,2,1])"
   ]
  },
  {
   "cell_type": "markdown",
   "metadata": {},
   "source": [
    "a={1:2,2:2,3:2,4:1,7:1,8:1,9:1}\n",
    "maxfreq=max(a.values())\n",
    "\n",
    "maxfreqkeys=[]   --> In this list we have 1,2,3 those are in high \n",
    "\n",
    "for item in a.items():\n",
    "    #item--> (key,value)\n",
    "    #item[1]\n",
    "    \n",
    "    if item[1] == maxfreq:\n",
    "        maxfreqkeys.append(item[0])\n",
    "       return min(maxfreqkeys)\n",
    "    highest_frequency_Element([1,2,3,9,8,7,4,3,2,1])\n",
    "    \n",
    "  Kth highest --> descending order\n",
    "  kth lowest --> ascending order"
   ]
  },
  {
   "cell_type": "code",
   "execution_count": 30,
   "metadata": {},
   "outputs": [
    {
     "data": {
      "text/plain": [
       "1"
      ]
     },
     "execution_count": 30,
     "metadata": {},
     "output_type": "execute_result"
    }
   ],
   "source": [
    "# Function to identify second highest frequency element.\n",
    "# If they are how many such elements,\n",
    "#[1,2,3,2,1,4,4,9] --> 3,9 -->smallest --> 3\n",
    "\n",
    "def second_frequency_Element(li):\n",
    "    a={}\n",
    "    for i in li:\n",
    "        if i not in a:\n",
    "            a[i] = 1\n",
    "        else:\n",
    "            a[i] += 1\n",
    "        #a={1:2,2:2,3:1,4:2,9:1}\n",
    "    #Getting all frequencies in to a list\n",
    "        freq=a.values()\n",
    "        minfreq = max(freq)\n",
    "        minfreqE=[] #[3,9]\n",
    "    #Identify the smallest number with maximum frequencies\n",
    "        for item in a.items():\n",
    "            if item[0] == minfreq:\n",
    "                minfreqE.append(item[0])\n",
    "        minfreqE = sorted(minfreqE)\n",
    "    #Select the minimum from the key\n",
    "        return min(minfreqE) #minfreq\n",
    "second_frequency_Element([1,2,3,2,1,4,4,9])"
   ]
  },
  {
   "cell_type": "code",
   "execution_count": 40,
   "metadata": {},
   "outputs": [
    {
     "data": {
      "text/plain": [
       "2"
      ]
     },
     "execution_count": 40,
     "metadata": {},
     "output_type": "execute_result"
    }
   ],
   "source": [
    "#kth frequency \n",
    "#[9,8,7,6,5,2,3,4,9,6,7,7,7,6,7,6]  k=4 -->2\n",
    "def kHighestFrequency(s,k):\n",
    "    #unique characters with frequencies\n",
    "    unique={}\n",
    "    for ch in s:\n",
    "        if ch not in unique:\n",
    "            unique[ch] = 1\n",
    "        else:\n",
    "            unique[ch] += 1\n",
    "    #return unique\n",
    "    #Unique dictionary contains \n",
    "    #unique = {9:2,8:1,7:5,6:4,5:1,2:1,3:1,4:1}\n",
    "#Extract all unique frequencies in a list\n",
    "#uniquefreq =[2,1,5,4]\n",
    "    uniquefreq = []\n",
    "    for value in unique.values():\n",
    "        if value not in uniquefreq:\n",
    "            uniquefreq.append(value)\n",
    "    #print(uniquefreq)\n",
    "    uniquefreq = sorted(uniquefreq,reverse=True)\n",
    "    #return uniquefreq\n",
    "    kfreq = uniquefreq[k-1]\n",
    "    kfreqchar = []\n",
    "    for item in unique.items():\n",
    "        if item[1] == kfreq:\n",
    "            kfreqchar.append(item[0])\n",
    "    return min(kfreqchar)\n",
    "\n",
    "with open\n",
    "\n",
    "kHighestFrequency([9,8,7,6,5,2,3,4,9,6,7,7,7,6,7,6],4)"
   ]
  },
  {
   "cell_type": "code",
   "execution_count": null,
   "metadata": {},
   "outputs": [],
   "source": []
  }
 ],
 "metadata": {
  "kernelspec": {
   "display_name": "Python 3",
   "language": "python",
   "name": "python3"
  },
  "language_info": {
   "codemirror_mode": {
    "name": "ipython",
    "version": 3
   },
   "file_extension": ".py",
   "mimetype": "text/x-python",
   "name": "python",
   "nbconvert_exporter": "python",
   "pygments_lexer": "ipython3",
   "version": "3.7.3"
  }
 },
 "nbformat": 4,
 "nbformat_minor": 2
}
