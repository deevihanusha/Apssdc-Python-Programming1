{
 "cells": [
  {
   "cell_type": "code",
   "execution_count": 18,
   "metadata": {},
   "outputs": [
    {
     "data": {
      "text/plain": [
       "-1"
      ]
     },
     "execution_count": 18,
     "metadata": {},
     "output_type": "execute_result"
    }
   ],
   "source": [
    "# Function to find the second largest number in a list\n",
    "def secondLargest(li):\n",
    "    # Convert the list into a unique list\n",
    "    # O(n)\n",
    "    unique = []\n",
    "    for n in li:\n",
    "        if n not in unique:\n",
    "            unique.append(n)\n",
    "    \n",
    "    unique = sorted(unique, reverse=True)\n",
    "    if len(unique) > 1:\n",
    "        return unique[1]\n",
    "    return -1\n",
    "\n",
    "secondLargest([1])\n",
    "\n",
    "def kSmallest(li,k):\n",
    "    #\n",
    "    unique=[]\n",
    "    for i in li:\n",
    "        if i not in unique:\n",
    "            unique.append(i)\n",
    "    #Sort the Unique list in descending order\n",
    "    unique = sorted(unique)\n",
    "    #check if length of unique list is greater than are equal to k\n",
    "    if len(unique) >= k:\n",
    "        unique[k-1]\n",
    "    return -1\n",
    "kSmallest([3,3,9],2)"
   ]
  },
  {
   "cell_type": "code",
   "execution_count": 14,
   "metadata": {},
   "outputs": [
    {
     "name": "stdout",
     "output_type": "stream",
     "text": [
      "{1: 2, 2: 2, 3: 2, 9: 1, 8: 1, 7: 1, 4: 1}\n",
      "[]\n",
      "[1, 2, 3]\n"
     ]
    },
    {
     "data": {
      "text/plain": [
       "1"
      ]
     },
     "execution_count": 14,
     "metadata": {},
     "output_type": "execute_result"
    }
   ],
   "source": [
    "#Element with high frequency in a list\n",
    "# If many elements have the highest frequency,return the smallest\n",
    "#Highest Frequency of ([1,2,3,9,8,7,4,3,2,1])\n",
    "def highest_frequency_Element(li):\n",
    "    a={}\n",
    "    for i in li:\n",
    "        if i not in a:\n",
    "            a[i] = 1\n",
    "        else:\n",
    "            a[i] += 1\n",
    "        #a={1:2,2:2,3:2,4:1,7:1,8:1,9:1}\n",
    "    #Getting all frequencies in to a list\n",
    "    maxfreq=max(a.values())\n",
    "    maxfreqkeys=[]\n",
    "    print(a)\n",
    "    print(maxfreqkeys)\n",
    "    #Identify the smallest number with maximum frequencies\n",
    "    for item in a.items():\n",
    "        if item[1] == maxfreq:\n",
    "            maxfreqkeys.append(item[0])\n",
    "    print(maxfreqkeys)\n",
    "    #Select the minimum from the key\n",
    "    return min(maxfreqkeys) #minfreq\n",
    "highest_frequency_Element([1,2,3,9,8,7,4,3,2,1])"
   ]
  },
  {
   "cell_type": "markdown",
   "metadata": {},
   "source": [
    "a={1:2,2:2,3:2,4:1,7:1,8:1,9:1}\n",
    "maxfreq=max(a.values())\n",
    "\n",
    "maxfreqkeys=[]   --> In this list we have 1,2,3 those are in high \n",
    "\n",
    "for item in a.items():\n",
    "    #item--> (key,value)\n",
    "    #item[1]\n",
    "    \n",
    "    if item[1] == maxfreq:\n",
    "        maxfreqkeys.append(item[0])\n",
    "       return min(maxfreqkeys)\n",
    "    highest_frequency_Element([1,2,3,9,8,7,4,3,2,1])\n",
    "    \n",
    "  Kth highest --> descending order\n",
    "  kth lowest --> ascending order"
   ]
  },
  {
   "cell_type": "code",
   "execution_count": 17,
   "metadata": {},
   "outputs": [
    {
     "data": {
      "text/plain": [
       "2"
      ]
     },
     "execution_count": 17,
     "metadata": {},
     "output_type": "execute_result"
    }
   ],
   "source": [
    "# Function to identify second highest frequency element.\n",
    "# If they are how many such elements,\n",
    "#[1,2,3,2,1,4,4,9] --> 3,9 -->smallest --> 3\n",
    "\n",
    "#function to identify the second highest frequency element\n",
    "#if there are many elements \n",
    "#[1,2,3,2,1,4,4,9]\n",
    "\n",
    "def secondFrequencyElement(li):\n",
    "    unique={}\n",
    "    for n in li:\n",
    "        if n in unique:\n",
    "            unique[n]+=1\n",
    "        else:\n",
    "            unique[n]=1\n",
    "    freq=unique.values()\n",
    "    maxfreq=max(freq)\n",
    "    maxfreqE=[]\n",
    "    for item in unique.items():\n",
    "        if item[1]==maxfreq:\n",
    "            maxfreqE.append(item[0])       \n",
    "    maxfreqE=sorted(maxfreqE,reverse=True)\n",
    "    return maxfreqE[2-1]    # minfreqE[k-1]\n",
    "secondFrequencyElement([1,2,3,9,8,7,3,4,2,1])\n",
    "    "
   ]
  },
  {
   "cell_type": "code",
   "execution_count": 40,
   "metadata": {},
   "outputs": [
    {
     "data": {
      "text/plain": [
       "2"
      ]
     },
     "execution_count": 40,
     "metadata": {},
     "output_type": "execute_result"
    }
   ],
   "source": [
    "#kth frequency \n",
    "#[9,8,7,6,5,2,3,4,9,6,7,7,7,6,7,6]  k=4 -->2\n",
    "def kHighestFrequency(s,k):\n",
    "    #unique characters with frequencies\n",
    "    unique={}\n",
    "    for ch in s:\n",
    "        if ch not in unique:\n",
    "            unique[ch] = 1\n",
    "        else:\n",
    "            unique[ch] += 1\n",
    "    #return unique\n",
    "    #Unique dictionary contains \n",
    "    #unique = {9:2,8:1,7:5,6:4,5:1,2:1,3:1,4:1}\n",
    "#Extract all unique frequencies in a list\n",
    "#uniquefreq =[2,1,5,4]\n",
    "    uniquefreq = []\n",
    "    for value in unique.values():\n",
    "        if value not in uniquefreq:\n",
    "            uniquefreq.append(value)\n",
    "    #print(uniquefreq)\n",
    "    uniquefreq = sorted(uniquefreq,reverse=True)\n",
    "    #return uniquefreq\n",
    "    kfreq = uniquefreq[k-1]\n",
    "    kfreqchar = []\n",
    "    for item in unique.items():\n",
    "        if item[1] == kfreq:\n",
    "            kfreqchar.append(item[0])\n",
    "    return min(kfreqchar)\n",
    "\n",
    "with open\n",
    "\n",
    "kHighestFrequency([9,8,7,6,5,2,3,4,9,6,7,7,7,6,7,6],4)"
   ]
  },
  {
   "cell_type": "code",
   "execution_count": null,
   "metadata": {},
   "outputs": [],
   "source": [
    "# k - lowest frequency\n",
    "def klowestfrequency(li):\n",
    "    a={}\n",
    "    for i in li:\n",
    "        if i in a:\n",
    "            a[i] += 1\n",
    "        else:\n",
    "            a[i] = 1\n",
    "    freq=a.values()\n",
    "    min"
   ]
  },
  {
   "cell_type": "code",
   "execution_count": 38,
   "metadata": {},
   "outputs": [
    {
     "name": "stdout",
     "output_type": "stream",
     "text": [
      "1 2 3\n",
      "1 2 4\n",
      "1 2 5\n",
      "1 2 6\n",
      "1 3 4\n",
      "1 3 5\n",
      "1 3 6\n",
      "1 4 5\n",
      "1 4 6\n",
      "1 5 6\n",
      "2 3 4\n",
      "2 3 5\n",
      "2 3 6\n",
      "2 4 5\n",
      "2 4 6\n",
      "2 5 6\n",
      "3 4 5\n",
      "3 4 6\n",
      "3 5 6\n",
      "4 5 6\n"
     ]
    }
   ],
   "source": [
    "#Function to print all combinations of pairs of integers in a unique list\n",
    "# [1,2,3] --> (1,2),(1,3),(2,3)  --> 3C2  ==  3!/((3-2)!*2!)\n",
    "# [1,2,3,4] --> 1,2 1,\n",
    "# Without using formula --> manually for loop - (i,j)\n",
    "def combinations(li):\n",
    "    unique=[]\n",
    "    for i in range(0,len(li)-2):\n",
    "        for j in range(i+1,len(li)-1):\n",
    "            for k in range(j+1,len(li)):\n",
    "                print(li[i],li[j],li[k])\n",
    "    return\n",
    "li = [1,2,3,4,5,6]\n",
    "combinations(li)"
   ]
  },
  {
   "cell_type": "code",
   "execution_count": 41,
   "metadata": {},
   "outputs": [
    {
     "data": {
      "text/plain": [
       "[1, 2, 3]"
      ]
     },
     "execution_count": 41,
     "metadata": {},
     "output_type": "execute_result"
    }
   ],
   "source": [
    "# \n",
    "def differencePairs(li):\n",
    "    \n",
    "    for i in range(len(li)-1):\n",
    "        for j in range(i+1,len(li)):\n",
    "            d= abs(li[i]-li[j])\n",
    "            if d not in li:\n",
    "                li.append(d)\n",
    "    return li\n",
    "li = [1,2,3]\n",
    "differencePairs(li)"
   ]
  },
  {
   "cell_type": "code",
   "execution_count": 46,
   "metadata": {},
   "outputs": [
    {
     "data": {
      "text/plain": [
       "[7]"
      ]
     },
     "execution_count": 46,
     "metadata": {},
     "output_type": "execute_result"
    }
   ],
   "source": [
    "#\n",
    "\n",
    "def differencePairs(li):\n",
    "    cli=li\n",
    "    newelements = []\n",
    "    for i in range(len(cli)-1):\n",
    "        for j in range(i+1,len(cli)):\n",
    "            d= abs(li[i]-li[j])\n",
    "            if d not in cli:\n",
    "                newelements.append(d)\n",
    "    return newelements\n",
    "li = [1,9,8]                    # 1-9 =8, 9-8 =1, 8-1=7  here 8,1 are already in list so new element is 7\n",
    "differencePairs(li)"
   ]
  },
  {
   "cell_type": "code",
   "execution_count": 54,
   "metadata": {},
   "outputs": [
    {
     "data": {
      "text/plain": [
       "[1, 9, 8, 7, 6, 2, 5, 3, 4]"
      ]
     },
     "execution_count": 54,
     "metadata": {},
     "output_type": "execute_result"
    }
   ],
   "source": [
    "\n",
    "def medium(li):\n",
    "    while(True):\n",
    "\n",
    "        li2 = differencePairs(li)\n",
    "        if len(li2) == 0:\n",
    "            break\n",
    "    return li\n",
    "\n",
    "def differencePairs(li):\n",
    "    cli=li\n",
    "    newelements = []\n",
    "    for i in range(len(cli)-1):\n",
    "        for j in range(i+1,len(cli)):\n",
    "            d= abs(li[i]-li[j])\n",
    "            if d not in cli:\n",
    "                newelements.append(d)\n",
    "    li.extend(newelements)\n",
    "    return li\n",
    "li = [1,9,8,7,6,2,5,3,4]                    # 1-9 =8, 9-8 =1, 8-1=7  here 8,1 are already in list so new element is 7\n",
    "                                #7 --> 6,2            6 --> 5,3,4\n",
    "differencePairs(li)"
   ]
  },
  {
   "cell_type": "code",
   "execution_count": 2,
   "metadata": {},
   "outputs": [
    {
     "data": {
      "text/plain": [
       "[[1, 3, 5], [1, 3, 5, 2, 4]]"
      ]
     },
     "execution_count": 2,
     "metadata": {},
     "output_type": "execute_result"
    }
   ],
   "source": [
    "def medium(li):\n",
    "    #li3 = [[],li]\n",
    "    count=1\n",
    "    while(True):\n",
    "\n",
    "        li3 = differencePairs(li)\n",
    "        if li3[0]== li3[1]:\n",
    "            break\n",
    "    if len(li3[0]) >= k:\n",
    "        return sorted(li3[0],reverse=True)\n",
    "    return li\n",
    "# Function to identify differences of a \n",
    "#pairs of numbers \n",
    "#to the same \n",
    "#It returns the updated list and original list\n",
    "def differencePairs(li):\n",
    "    cli=li[:]\n",
    "    newelements = []\n",
    "    for i in range(len(li)-1):\n",
    "        for j in range(i+1,len(li)):\n",
    "            d= abs(li[i]-li[j])\n",
    "            if d not in li and d not in newelements:\n",
    "                newelements.append(d)\n",
    "    li.extend(newelements)\n",
    "    return [cli,li]\n",
    "li = [1,3,5]                    # 1-9 =8, 9-8 =1, 8-1=7  here 8,1 are already in list so new element is 7\n",
    "                                #7 --> 6,2            6 --> 5,3,4\n",
    "differencePairs(li)"
   ]
  },
  {
   "cell_type": "code",
   "execution_count": null,
   "metadata": {},
   "outputs": [],
   "source": [
    "#example\n",
    "a=[1,2,3,4,5]\n",
    "b=[1,3,2]\n",
    "a=b [:]\n",
    "a=b\n",
    "a\n",
    "\n",
    "a=append()"
   ]
  }
 ],
 "metadata": {
  "kernelspec": {
   "display_name": "Python 3",
   "language": "python",
   "name": "python3"
  },
  "language_info": {
   "codemirror_mode": {
    "name": "ipython",
    "version": 3
   },
   "file_extension": ".py",
   "mimetype": "text/x-python",
   "name": "python",
   "nbconvert_exporter": "python",
   "pygments_lexer": "ipython3",
   "version": "3.7.3"
  }
 },
 "nbformat": 4,
 "nbformat_minor": 2
}
