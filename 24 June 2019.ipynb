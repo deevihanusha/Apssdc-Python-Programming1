{
 "cells": [
  {
   "cell_type": "code",
   "execution_count": null,
   "metadata": {},
   "outputs": [],
   "source": [
    "# Contact Application\n",
    "    # Add,Search,List,Modify,delete contact\n",
    "    \n",
    "# Find and replace Application\n",
    "    # count the total number of occurance of a word\n",
    "    # If word is existing \n",
    "    # Replace all occurances of a word with another word\n",
    "\n",
    "# Marks Analysis Application(marks text file)\n",
    "    #Generate random marks files - for N students\n",
    "    #Input : Marks text file - each line contains\n",
    "    #Generates a Report with the following information\n",
    "        #Class Average\n",
    "        # % Of Students passed\n",
    "        # % Of Students failed \n",
    "        # % of students with distinction"
   ]
  },
  {
   "cell_type": "code",
   "execution_count": null,
   "metadata": {},
   "outputs": [],
   "source": [
    "# Contact Application\n",
    "    # Add,Search,List,Modify,delete contact\n",
    "    "
   ]
  },
  {
   "cell_type": "code",
   "execution_count": 3,
   "metadata": {},
   "outputs": [
    {
     "name": "stdout",
     "output_type": "stream",
     "text": [
      "['data', 'in', 'line1', 'data', 'in', 'line2', 'data', 'in', 'line3']\n",
      "data :  3\n",
      "in :  3\n",
      "line1 :  1\n",
      "line2 :  1\n",
      "line3 :  1\n"
     ]
    }
   ],
   "source": [
    "# Find and replace Application\n",
    "    # count the total number of occurance of a word\n",
    "    # If word is existing - Replace all occurances of a word with another word\n",
    "def occurance(filepath):\n",
    "    count={}\n",
    "    with open(filepath,'r') as f:\n",
    "        value=f.read().split()\n",
    "        print(value)\n",
    "        for i in value:\n",
    "            if i not in count:\n",
    "                count[i] = 1\n",
    "            else:\n",
    "                count[i] += 1\n",
    "    for key, value in count.items():\n",
    "        print (\"% s : % d\" %(key, value)) \n",
    "\n",
    "filepath = \"DataFiles/22 junedata.txt\"\n",
    "occurance(filepath)\n",
    "\n",
    "\n"
   ]
  },
  {
   "cell_type": "code",
   "execution_count": 9,
   "metadata": {},
   "outputs": [
    {
     "name": "stdout",
     "output_type": "stream",
     "text": [
      "10\n",
      "20\n",
      "50\n",
      "30\n",
      "35\n",
      "40\n",
      "45\n",
      "50\n",
      "55\n",
      "60\n",
      "65\n",
      "70\n",
      "75\n"
     ]
    }
   ],
   "source": [
    "# Marks Analysis Application(marks text file)\n",
    "    #Generate random marks files - for N students\n",
    "    #Input : Marks text file - each line contains\n",
    "    #Generates a Report with the following information\n",
    "        #Class Average\n",
    "        # % Of Students passed\n",
    "        # % Of Students failed \n",
    "        # % of students with distinction\n",
    "        # Highest Mark Frequency\n",
    "        # Lowest Mark Frequency\n",
    "from random import randint      \n",
    "def generateMarksInternal1(n,start,end):\n",
    "    with open('DataFiles/marks.txt','w') as f:\n",
    "        count=[]\n",
    "        for i in range(0,n):\n",
    "            r=randint(start,end)\n",
    "            f.write(str(r)+ '\\n')\n",
    "    return\n",
    "\n",
    "#n=int(input())\n",
    "#start=int(input())\n",
    "#end=int(input())\n",
    "generateMarksInternal1(n,start,end)\n",
    "\n",
    "def generateMarksInternal2(n,start,end):\n",
    "    with open(\"DataFiles/marks.txt\",'a') as f:\n",
    "        for i in range(0,n):\n",
    "            r=randint(start,end)\n",
    "            f.write(str(r)+' \\n')\n",
    "            print(f.seek(0,2))\n",
    "    return\n",
    "\n",
    "n=int(input())\n",
    "start=int(input())\n",
    "end=int(input())\n",
    "generateMarksInternal2(n,start,end)\n",
    "\n",
    "def generateMarksExternals"
   ]
  },
  {
   "cell_type": "code",
   "execution_count": null,
   "metadata": {},
   "outputs": [],
   "source": []
  },
  {
   "cell_type": "code",
   "execution_count": null,
   "metadata": {},
   "outputs": [],
   "source": []
  }
 ],
 "metadata": {
  "kernelspec": {
   "display_name": "Python 3",
   "language": "python",
   "name": "python3"
  },
  "language_info": {
   "codemirror_mode": {
    "name": "ipython",
    "version": 3
   },
   "file_extension": ".py",
   "mimetype": "text/x-python",
   "name": "python",
   "nbconvert_exporter": "python",
   "pygments_lexer": "ipython3",
   "version": "3.7.3"
  }
 },
 "nbformat": 4,
 "nbformat_minor": 2
}
