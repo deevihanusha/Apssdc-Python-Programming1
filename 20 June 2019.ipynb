{
 "cells": [
  {
   "cell_type": "markdown",
   "metadata": {},
   "source": [
    "### Regular Expressions¶\n",
    "Pattern Matching\n",
    "Symbolic Notation of a pattern\n",
    "Pattern : Format which repeats\n",
    "Pattern(RE) represents The set of all values that match a pattern\n",
    "[0-9] -> Any digit\n",
    "[a-z] -> Any lower case alphabet\n",
    "[2468] -> All single digit multiples of 2\n",
    "^[0-9]{1}$ Only single digit numbers\n",
    "\n",
    "^[0-9]{3}$ Only 3 digit numbers\n",
    "\n",
    "[0-9]*0$ -> All multiples of 10\n",
    "\n",
    "^([1-9][0-9]*[05])$|^([5])$ -> All multiples of 5\n",
    "\n",
    "-> All 10 digit numbers\n",
    "\n",
    "[w][o][r][d] or (word) -> Searching for a 'word'\n",
    "\n",
    "^[6-9][0-9]{9}$|^[0][6-9][0-9]{9}|^[+][9][1][6-9][0-9]{9}$ -> Validating Phone number(India)(start with 9876 followed by 9 digits)\n",
    "\n",
    "-> Email Validation( username@domain.extension )"
   ]
  },
  {
   "cell_type": "code",
   "execution_count": null,
   "metadata": {},
   "outputs": [],
   "source": [
    "# Regular Expressions\n",
    "[0-9] -> 0 to 9 any one digit\n",
    "^ -> starting \n",
    "$ -> ending\n",
    "| -> or"
   ]
  },
  {
   "cell_type": "code",
   "execution_count": 2,
   "metadata": {},
   "outputs": [
    {
     "name": "stdout",
     "output_type": "stream",
     "text": [
      "sg8fteriacbofhboshukhfv\n",
      "assssdkhiuyalkjehwfhncbvtfjg\n",
      "bhgryugjbcytrtch\n",
      "hguertg\n",
      "hfrr;kpoi\n",
      "helo\n",
      "hanusha\n",
      "jhfcrliuyehanusha\n",
      "shiywhknknzhanusns\n",
      "sjdbhfuisjkdcnkns\n"
     ]
    }
   ],
   "source": [
    "# read file\n",
    "def read(filename):\n",
    "    f=open(filename,'r')\n",
    "    var=f.read()\n",
    "    print(var)\n",
    "read('data.txt')\n",
    "    "
   ]
  },
  {
   "cell_type": "code",
   "execution_count": 6,
   "metadata": {},
   "outputs": [
    {
     "name": "stdout",
     "output_type": "stream",
     "text": [
      "[]\n"
     ]
    }
   ],
   "source": [
    "def read1(filename):\n",
    "    f=open(filename,'r')\n",
    "    for line in f:\n",
    "        data=f.readlines()\n",
    "    print(data)\n",
    "read1('data.txt')\n",
    "    "
   ]
  },
  {
   "cell_type": "code",
   "execution_count": 7,
   "metadata": {},
   "outputs": [
    {
     "name": "stdout",
     "output_type": "stream",
     "text": [
      "This is............\n"
     ]
    }
   ],
   "source": [
    "def write(filename):\n",
    "    f=open(filename,'w')\n",
    "    f.write(\"This is............\")\n",
    "    f.close()\n",
    "    f=open(filename,'r')\n",
    "    print(f.read())\n",
    "write('data.txt')\n",
    "    "
   ]
  },
  {
   "cell_type": "code",
   "execution_count": 11,
   "metadata": {},
   "outputs": [
    {
     "name": "stdout",
     "output_type": "stream",
     "text": [
      "This is............hello,this is append mode \n",
      "hello,this is append mode \n"
     ]
    }
   ],
   "source": [
    "def append(filename):\n",
    "    f=open(filename,'a')\n",
    "    f.write(\"\\nhello,this is append mode \")\n",
    "    f.close()\n",
    "    f=open(filename,'r')\n",
    "    print(f.read())\n",
    "append('data.txt')"
   ]
  },
  {
   "cell_type": "code",
   "execution_count": 3,
   "metadata": {},
   "outputs": [
    {
     "name": "stdout",
     "output_type": "stream",
     "text": [
      "1. Read a file \n",
      " 2. Write a file \n",
      " 3. Append a file \n",
      "\n",
      "enter a number\n",
      "1\n",
      "this is write mode\n",
      "\n",
      "Enter 1 to continue\n",
      "Enter 0 to exit\n",
      "\n",
      "1\n",
      "1. Read a file \n",
      " 2. Write a file \n",
      " 3. Append a file \n",
      "\n",
      "enter a number\n",
      "2\n",
      "enter the datathis is also  write mode\n",
      "\n",
      "Enter 1 to continue\n",
      "Enter 0 to exit\n",
      "\n",
      "1\n",
      "1. Read a file \n",
      " 2. Write a file \n",
      " 3. Append a file \n",
      "\n",
      "enter a number\n",
      "3\n",
      "append the datahello this is append mode\n",
      "\n",
      "Enter 1 to continue\n",
      "Enter 0 to exit\n",
      "\n",
      "1\n",
      "1. Read a file \n",
      " 2. Write a file \n",
      " 3. Append a file \n",
      "\n",
      "enter a number\n",
      "1\n",
      "this is also  write modehello this is append mode\n",
      "\n",
      "Enter 1 to continue\n",
      "Enter 0 to exit\n",
      "\n",
      "0\n"
     ]
    }
   ],
   "source": [
    "# read write and append mode\n",
    "def readfile(filepath):\n",
    "    with open(filepath,'r') as f:\n",
    "        filedata=f.readlines()\n",
    "        for line in filedata:\n",
    "            print(line)\n",
    "\n",
    "def writefile(filepath,filedata):\n",
    "    with open(filepath,'w') as f:\n",
    "        f.write(filedata)\n",
    "    return\n",
    "\n",
    "def appendfile(filepath,filedata):\n",
    "    with open(filepath,'a') as f:\n",
    "        f.write(filedata)\n",
    "    return\n",
    "            \n",
    "c=1\n",
    "filepath='C:/Users/IIIT-rgukt/Desktop/problem solving programming in python - june-19 - L2/Apssdc-Python-Programming1/DataFiles/22 Junedata.txt'\n",
    "while c==1:\n",
    "    print(\"1. Read a file \\n 2. Write a file \\n 3. Append a file \\n\")\n",
    "    print(\"enter a number\")\n",
    "    n=int(input())\n",
    "    if n==1:\n",
    "            readfile(filepath)\n",
    "    elif n==2:\n",
    "        filedata=input(\"enter the data\")\n",
    "        writefile(filepath,filedata)\n",
    "            \n",
    "    elif n==3:\n",
    "            filedata=input(\"append the data\")\n",
    "            appendfile(filepath,filedata)\n",
    "    print(\"\\nEnter 1 to continue\\nEnter 0 to exit\\n\")\n",
    "    c=int(input())"
   ]
  },
  {
   "cell_type": "code",
   "execution_count": null,
   "metadata": {},
   "outputs": [],
   "source": []
  }
 ],
 "metadata": {
  "kernelspec": {
   "display_name": "Python 3",
   "language": "python",
   "name": "python3"
  },
  "language_info": {
   "codemirror_mode": {
    "name": "ipython",
    "version": 3
   },
   "file_extension": ".py",
   "mimetype": "text/x-python",
   "name": "python",
   "nbconvert_exporter": "python",
   "pygments_lexer": "ipython3",
   "version": "3.7.3"
  }
 },
 "nbformat": 4,
 "nbformat_minor": 2
}
