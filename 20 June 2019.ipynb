{
 "cells": [
  {
   "cell_type": "markdown",
   "metadata": {},
   "source": [
    "## Date : 20 June 2019\n",
    "\n",
    "\n",
    "### Day Objectives\n",
    "\n",
    "\n",
    "\n",
    "#### Regular Expressions\n",
    "\n",
    "* Constructing Regular Expressions for various use cases\n",
    "* Regular Expressions Module and related in Python\n",
    "* Improving the Contacts application with name and phone number validation using regular expressions\n",
    "\n",
    "#### File Handling\n",
    "* Text Files\n",
    "* Upgrading the Contacts Application to store contact information in a text fileRegular expressions\n",
    "* pattern matching\n",
    "* Symbolic notation of a pattern\n",
    "\n",
    "#### Pattern : formate which repeats\n",
    "Pattern (RE) represents the set of all values match aparticular pattern\n",
    "[0-9] -> Any digit\n",
    "[a-z] -> Any lower case alphabet\n",
    "[2468] -> Any single digit multiples of 2 [8642] [6482]\n",
    "^[0-9]{2}\n",
    "(.....) represents Any digit or alphabet or special char with 4 char\n",
    "\n",
    "^[0-9]{3}$ -> Only 3 digit number\n",
    "\n",
    "^[0-9]{1}$ -> Only single digit numbers\n",
    "^[0-9]*0$ -> All multiples of 10\n",
    "\n",
    "[^abc] -> Matches any character except for an a, b or c\n",
    "\n",
    "(word) or [w][o][r][d] ->searching for a word\n",
    "\n",
    "^[1-9][0-9][05]$ or ^[1-9][0-9][0|5]$ -&gt; All multiples of 5\n",
    "[0-9]{10}$ -> All 10 digit numbers (9|8|7|6)\\d{9}$ or -> Validating phone number(INDIA) (start with 9|8|7|6 followed by 9 digits\n",
    "\n",
    "^[0][6-9][0-9]{9}$ -> Some phone numbers start with 0 which 11 digits..so validate it\n",
    "^[+91][6-9][0-9]{11}$ -> starts with +91 india\n",
    "\n",
    "->Email id validate (username@domain.extension)\n",
    "\n",
    "-> Username\n",
    "\n",
    "  -> Lenght of username : [6,15]\n",
    "  -> No special charapcters other then _ .\n",
    "  -> Should not begin and end with _ .\n",
    "  -> Character set: All digits and alphabets\n",
    "\n",
    "-> Domain\n",
    "\n",
    "  -> Length of the domain : [3,18]\n",
    "  -> No special characters\n",
    "  -> Character set : all digits and alphabets\n",
    "\n",
    "->Extension\n",
    "\n",
    "  ->Length of extension : [2,4]\n",
    "  ->no special characters\n",
    "  -> Only lower alphabets\n",
    "\n",
    "Answer:\n",
    "\n",
    "^[a-zA-Z0-9][0-9a-zA-Z_.]{5,14}0-9a-zA-Z[0-9a-zA-Z]{2,15}(.)[a-z]{2,4}\n",
    "\n",
    "^[a]...[z]$- -> Any string of lenght 5 that starts with 'a' and ends with z\n",
    "\n",
    "^[a].*[z]$ --> Any length string start with a and ends with z"
   ]
  },
  {
   "cell_type": "markdown",
   "metadata": {},
   "source": []
  },
  {
   "cell_type": "markdown",
   "metadata": {},
   "source": []
  },
  {
   "cell_type": "code",
   "execution_count": null,
   "metadata": {},
   "outputs": [],
   "source": [
    "# Regular Expressions\n",
    "[0-9] -> 0 to 9 any one digit\n",
    "^ -> starting \n",
    "$ -> ending\n",
    "| -> or"
   ]
  },
  {
   "cell_type": "code",
   "execution_count": 1,
   "metadata": {},
   "outputs": [
    {
     "data": {
      "text/plain": [
       "False"
      ]
     },
     "execution_count": 1,
     "metadata": {},
     "output_type": "execute_result"
    }
   ],
   "source": [
    "# Function to validate a phone number\n",
    "import re\n",
    "\n",
    "def phoneNumberValidator(number):\n",
    "    pattern = '^[6-9][0-9]{9}$|^[0][6-9][0-9]{9}|^[+][9][1][6-9][0-9]{9}$'\n",
    "    if re.match(pattern, str(number)):\n",
    "        return True\n",
    "    return False\n",
    "\n",
    "phoneNumberValidator(98765432)\n",
    "\n",
    "def emailValidator(email):\n",
    "    pattern = \"^[0-9a-z][0-9a-z_.]{4,13}[0-9a-z][@][a-z0-9]{3,18}[.][a-z]{2,4}$\"\n",
    "    if re.match(pattern, email):\n",
    "        return True\n",
    "    return False\n",
    "\n",
    "emailValidator(\"_12345@gmail.com\")"
   ]
  },
  {
   "cell_type": "code",
   "execution_count": 2,
   "metadata": {},
   "outputs": [
    {
     "name": "stdout",
     "output_type": "stream",
     "text": [
      "name3 added successfully\n"
     ]
    }
   ],
   "source": [
    "contacts = {\"name1\":[8726489656, 'name1@domain.ext'], \"name2\":[8646462943, \"name2@domain.ext\"]}\n",
    "\n",
    "def addContact(name, phone, email):\n",
    "    #verify that the contact doesnot already exist\n",
    "    if name in contacts:\n",
    "        print(name, \"already exists.\")\n",
    "        return\n",
    "    else:\n",
    "        if not phoneNumberValidator(phone):\n",
    "            print(\"Invalid Phone number\")\n",
    "            return\n",
    "        if not emailValidator(email):\n",
    "            print(\"Invalid Email address\")\n",
    "            return\n",
    "        newcontact = []\n",
    "        newcontact.append(phone)\n",
    "        newcontact.append(email)\n",
    "        contacts[name] = newcontact\n",
    "        print(name, \"added successfully\")\n",
    "    return\n",
    "\n",
    "addContact(\"name3\", 6746298664, \"name321@gmail.com\")"
   ]
  },
  {
   "cell_type": "code",
   "execution_count": 3,
   "metadata": {},
   "outputs": [
    {
     "name": "stdout",
     "output_type": "stream",
     "text": [
      "name1\n",
      "Phone : 8726489656\n",
      "Email : name1@domain.ext\n"
     ]
    }
   ],
   "source": [
    "def searchContacts(name):\n",
    "    if name in contacts:\n",
    "        print(name)\n",
    "        print(\"Phone :\", contacts[name][0])\n",
    "        print(\"Email :\", contacts[name][1])\n",
    "    else:\n",
    "        print(\"%s does not exist\" % name)\n",
    "    return\n",
    "\n",
    "searchContacts(\"name1\")"
   ]
  },
  {
   "cell_type": "code",
   "execution_count": 4,
   "metadata": {},
   "outputs": [
    {
     "name": "stdout",
     "output_type": "stream",
     "text": [
      "1 contacts added successfully\n"
     ]
    },
    {
     "data": {
      "text/plain": [
       "dict_items([('name1', [8726489656, 'name1@domain.ext']), ('name2', [8646462943, 'name2@domain.ext']), ('name3', [6746298664, 'name321@gmail.com']), ('name4', [9753108642, 'name4_123@gmail.com'])])"
      ]
     },
     "execution_count": 4,
     "metadata": {},
     "output_type": "execute_result"
    }
   ],
   "source": [
    "# New contacts is given as a dictionary\n",
    "# Merge new contacts with existing contacts\n",
    "def importContacts(newContacts):\n",
    "    contacts.update(newContacts)\n",
    "    print(len(newContacts.keys()), \"contacts added successfully\")\n",
    "    return\n",
    "\n",
    "newContacts = {\"name4\":[9753108642, \"name4_123@gmail.com\"]}\n",
    "\n",
    "importContacts(newContacts)\n",
    "contacts.items()"
   ]
  },
  {
   "cell_type": "code",
   "execution_count": 5,
   "metadata": {},
   "outputs": [
    {
     "name": "stdout",
     "output_type": "stream",
     "text": [
      "name1 \n",
      " Phone : 8726489656 \n",
      " Email : name1@domain.ext\n",
      "name2 \n",
      " Phone : 8646462943 \n",
      " Email : name2@domain.ext\n",
      "name3 \n",
      " Phone : 6746298664 \n",
      " Email : name321@gmail.com\n",
      "name4 \n",
      " Phone : 9753108642 \n",
      " Email : name4_123@gmail.com\n"
     ]
    }
   ],
   "source": [
    "# Function to list all contacts\n",
    "\n",
    "def listAllContacts():\n",
    "    for contact, info in contacts.items():\n",
    "        print(contact, \"\\n\", \"Phone :\", info[0], \"\\n\", \"Email :\", info[1])\n",
    "    return\n",
    "\n",
    "listAllContacts()"
   ]
  },
  {
   "cell_type": "code",
   "execution_count": 2,
   "metadata": {},
   "outputs": [
    {
     "name": "stdout",
     "output_type": "stream",
     "text": [
      "sg8fteriacbofhboshukhfv\n",
      "assssdkhiuyalkjehwfhncbvtfjg\n",
      "bhgryugjbcytrtch\n",
      "hguertg\n",
      "hfrr;kpoi\n",
      "helo\n",
      "hanusha\n",
      "jhfcrliuyehanusha\n",
      "shiywhknknzhanusns\n",
      "sjdbhfuisjkdcnkns\n"
     ]
    }
   ],
   "source": [
    "# File handling to read a file\n",
    "def read(filename):\n",
    "    f=open(filename,'r')\n",
    "    var=f.read()\n",
    "    print(var)\n",
    "read('data.txt')\n",
    "    "
   ]
  },
  {
   "cell_type": "code",
   "execution_count": null,
   "metadata": {},
   "outputs": [],
   "source": []
  },
  {
   "cell_type": "code",
   "execution_count": 6,
   "metadata": {},
   "outputs": [
    {
     "name": "stdout",
     "output_type": "stream",
     "text": [
      "[]\n"
     ]
    }
   ],
   "source": [
    "def read1(filename):\n",
    "    f=open(filename,'r')\n",
    "    for line in f:\n",
    "        data=f.readlines()\n",
    "    print(data)\n",
    "read1('data.txt')\n",
    "    "
   ]
  },
  {
   "cell_type": "code",
   "execution_count": 7,
   "metadata": {},
   "outputs": [
    {
     "name": "stdout",
     "output_type": "stream",
     "text": [
      "This is............\n"
     ]
    }
   ],
   "source": [
    "def write(filename):\n",
    "    f=open(filename,'w')\n",
    "    f.write(\"This is............\")\n",
    "    f.close()\n",
    "    f=open(filename,'r')\n",
    "    print(f.read())\n",
    "write('data.txt')\n",
    "    "
   ]
  },
  {
   "cell_type": "code",
   "execution_count": 11,
   "metadata": {},
   "outputs": [
    {
     "name": "stdout",
     "output_type": "stream",
     "text": [
      "This is............hello,this is append mode \n",
      "hello,this is append mode \n"
     ]
    }
   ],
   "source": [
    "def append(filename):\n",
    "    f=open(filename,'a')\n",
    "    f.write(\"\\nhello,this is append mode \")\n",
    "    f.close()\n",
    "    f=open(filename,'r')\n",
    "    print(f.read())\n",
    "append('data.txt')"
   ]
  },
  {
   "cell_type": "code",
   "execution_count": 3,
   "metadata": {},
   "outputs": [
    {
     "name": "stdout",
     "output_type": "stream",
     "text": [
      "1. Read a file \n",
      " 2. Write a file \n",
      " 3. Append a file \n",
      "\n",
      "enter a number\n",
      "1\n",
      "this is write mode\n",
      "\n",
      "Enter 1 to continue\n",
      "Enter 0 to exit\n",
      "\n",
      "1\n",
      "1. Read a file \n",
      " 2. Write a file \n",
      " 3. Append a file \n",
      "\n",
      "enter a number\n",
      "2\n",
      "enter the datathis is also  write mode\n",
      "\n",
      "Enter 1 to continue\n",
      "Enter 0 to exit\n",
      "\n",
      "1\n",
      "1. Read a file \n",
      " 2. Write a file \n",
      " 3. Append a file \n",
      "\n",
      "enter a number\n",
      "3\n",
      "append the datahello this is append mode\n",
      "\n",
      "Enter 1 to continue\n",
      "Enter 0 to exit\n",
      "\n",
      "1\n",
      "1. Read a file \n",
      " 2. Write a file \n",
      " 3. Append a file \n",
      "\n",
      "enter a number\n",
      "1\n",
      "this is also  write modehello this is append mode\n",
      "\n",
      "Enter 1 to continue\n",
      "Enter 0 to exit\n",
      "\n",
      "0\n"
     ]
    }
   ],
   "source": [
    "# read write and append mode\n",
    "def readfile(filepath):\n",
    "    with open(filepath,'r') as f:\n",
    "        filedata=f.readlines()\n",
    "        for line in filedata:\n",
    "            print(line)\n",
    "\n",
    "def writefile(filepath,filedata):\n",
    "    with open(filepath,'w') as f:\n",
    "        f.write(filedata)\n",
    "    return\n",
    "\n",
    "def appendfile(filepath,filedata):\n",
    "    with open(filepath,'a') as f:\n",
    "        f.write(filedata)\n",
    "    return\n",
    "            \n",
    "c=1\n",
    "filepath='C:/Users/IIIT-rgukt/Desktop/problem solving programming in python - june-19 - L2/Apssdc-Python-Programming1/DataFiles/22 Junedata.txt'\n",
    "while c==1:\n",
    "    print(\"1. Read a file \\n 2. Write a file \\n 3. Append a file \\n\")\n",
    "    print(\"enter a number\")\n",
    "    n=int(input())\n",
    "    if n==1:\n",
    "            readfile(filepath)\n",
    "    elif n==2:\n",
    "        filedata=input(\"enter the data\")\n",
    "        writefile(filepath,filedata)\n",
    "            \n",
    "    elif n==3:\n",
    "            filedata=input(\"append the data\")\n",
    "            appendfile(filepath,filedata)\n",
    "    print(\"\\nEnter 1 to continue\\nEnter 0 to exit\\n\")\n",
    "    c=int(input())"
   ]
  },
  {
   "cell_type": "code",
   "execution_count": 1,
   "metadata": {},
   "outputs": [
    {
     "data": {
      "text/plain": [
       "True"
      ]
     },
     "execution_count": 1,
     "metadata": {},
     "output_type": "execute_result"
    }
   ],
   "source": [
    "2 == 2"
   ]
  },
  {
   "cell_type": "code",
   "execution_count": null,
   "metadata": {},
   "outputs": [],
   "source": []
  }
 ],
 "metadata": {
  "kernelspec": {
   "display_name": "Python 3",
   "language": "python",
   "name": "python3"
  },
  "language_info": {
   "codemirror_mode": {
    "name": "ipython",
    "version": 3
   },
   "file_extension": ".py",
   "mimetype": "text/x-python",
   "name": "python",
   "nbconvert_exporter": "python",
   "pygments_lexer": "ipython3",
   "version": "3.7.3"
  }
 },
 "nbformat": 4,
 "nbformat_minor": 2
}
