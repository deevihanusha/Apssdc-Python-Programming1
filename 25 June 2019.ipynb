{
 "cells": [
  {
   "cell_type": "markdown",
   "metadata": {},
   "source": [
    "Given a string, s , consisting of alphabets and digits, find the frequency of each digit in the given string.\n",
    "\n",
    "Input Format\n",
    "\n",
    "The first line contains a string, num, which is the given number.\n",
    "\n",
    "Constraints\n",
    "\n",
    "1<=len(num)<=1000\n",
    "\n",
    "All the elements of num are made of english alphabets and digits.\n",
    "\n",
    "Output Format\n",
    "\n",
    "Print ten space-separated integers in a single line denoting the frequency of each digit from 0 to 9"
   ]
  },
  {
   "cell_type": "code",
   "execution_count": null,
   "metadata": {},
   "outputs": [],
   "source": [
    "\n",
    "\n",
    "# s = 213abc456def111\n",
    "# 0 4 1 1 1 1 1 0 0 0 -> Frequency of sorted numbers\n",
    "# count(1) -> 1 4 1 1 1 1 4 4 4  \n",
    "\n",
    "# s = c\n",
    "# 0 0 0 0 0 0 0 0 0 0\n",
    "\n",
    "# s = 1234567890\n",
    "# 1 1 1 1 1 1 1 1 1 1 \n",
    "def uniqueData(allnumbers):\n",
    "    unique = []\n",
    "    for n in allnumbers:\n",
    "        if n not in unique:\n",
    "            unique.append(n)\n",
    "    return unique\n",
    "\n",
    "def digitFrequency1(s):\n",
    "    allnumbers = []\n",
    "    for i in s:\n",
    "        if i.isdigit():\n",
    "            allnumbers.append(i)\n",
    "    unique = uniqueData(allnumbers)\n",
    "    for i in range(0, 10):\n",
    "        if str(i) not in unique:\n",
    "            print(0, end=' ')\n",
    "        else:\n",
    "            count = allnumbers.count(str(i))\n",
    "            print(count, end=' ')\n",
    "    return\n",
    "\n",
    "digitFrequency1('213abc456def111')"
   ]
  },
  {
   "cell_type": "code",
   "execution_count": 2,
   "metadata": {},
   "outputs": [
    {
     "name": "stdout",
     "output_type": "stream",
     "text": [
      "0 4 1 1 1 1 1 0 0 0 "
     ]
    }
   ],
   "source": [
    "def digitFrequency2(s):\n",
    "    for i in range(0,10):\n",
    "        count = s.count(str(i))\n",
    "        print(count, end=' ')\n",
    "    return\n",
    "digitFrequency2('213abc456def111')"
   ]
  },
  {
   "cell_type": "code",
   "execution_count": 1,
   "metadata": {},
   "outputs": [
    {
     "data": {
      "text/plain": [
       "0"
      ]
     },
     "execution_count": 1,
     "metadata": {},
     "output_type": "execute_result"
    }
   ],
   "source": [
    "# Function to check if two strings are Anagrams\n",
    "# abc cba -> True\n",
    "# {a:1, b:1, c:1} {c:1, a:1, b:1} \n",
    "# aabbcc ccbbaaa -> False\n",
    "# aabbcc aaabbcc \n",
    "# abc\n",
    "# {a:2, b:2, c:2} {a:3, b:2, c:2}\n",
    "\n",
    "\n",
    "def checkAnagrams(s1, s2):\n",
    "    if len(s1) != len(s2):\n",
    "        return False\n",
    "    if sorted(s1) == sorted(s2):\n",
    "        return True\n",
    "    return False\n",
    "\n",
    "\n",
    "def charDeletionsAnagrams(s1, s2):\n",
    "    # to collect all uncommon characters - characters occurring in only one string\n",
    "    uncommon = []\n",
    "    for i in s1:\n",
    "        if i not in s2:\n",
    "            uncommon.append(i)\n",
    "    for i in s2:\n",
    "        if i not in s1:\n",
    "            uncommon.append(i)\n",
    "    count = len(uncommon)\n",
    "    # freqs1 -> Frequency of common characters in s1\n",
    "    freqs1 = {}\n",
    "    freqs2 = {}\n",
    "    # Unique characters in s1 and s2\n",
    "    uniqs1 = []\n",
    "    uniqs2 = []\n",
    "    # Frequency of common unique characters in s1\n",
    "    for i in s1:\n",
    "        if i not in uncommon and i not in uniqs1:\n",
    "            freqs1[i] = s1.count(i)\n",
    "            uniqs1.append(i)\n",
    "    # Frequency of common unique characters in s2\n",
    "    for i in s2:\n",
    "        if i not in uncommon and i not in uniqs2:\n",
    "            freqs2[i] = s2.count(i)\n",
    "            uniqs2.append(i)\n",
    "    # Difference in frequencies for common characters\n",
    "    for key in freqs1.keys():\n",
    "        count += abs(freqs1[key] - freqs2[key])\n",
    "    return count\n",
    "\n",
    "charDeletionsAnagrams('abc', 'bca')"
   ]
  },
  {
   "cell_type": "code",
   "execution_count": 4,
   "metadata": {},
   "outputs": [
    {
     "name": "stdout",
     "output_type": "stream",
     "text": [
      "1 10\n",
      "5\n"
     ]
    }
   ],
   "source": [
    "# Exam problem (very easy)\n",
    "def avg(start,end):\n",
    "    sum=0\n",
    "    sum=start+end\n",
    "    avg=sum//2\n",
    "    print(avg)\n",
    "start,end=map(int,input().split())\n",
    "avg(start,end)"
   ]
  },
  {
   "cell_type": "code",
   "execution_count": 6,
   "metadata": {},
   "outputs": [
    {
     "name": "stdout",
     "output_type": "stream",
     "text": [
      "2\n",
      "5\n",
      "1 3 5 6 7\n",
      "2\n",
      "6\n",
      "1\n",
      "1\n",
      "2\n",
      "-1\n"
     ]
    }
   ],
   "source": [
    "# Exam problems problem number 2(medium)\n",
    "t=int(input())\n",
    "for i in range(0,t,1):\n",
    "    n=int(input())\n",
    "    arr=list(map(int,input().split()))\n",
    "    k=int(input())\n",
    "    if n>1:\n",
    "        for i in range(0,n,1):\n",
    "            for j in range(i+1,n,1):\n",
    "                d=abs(arr[i]-arr[j])\n",
    "                if d not in arr:\n",
    "                    arr=arr+[d]\n",
    "    arr=sorted(arr)\n",
    "    if k<=n:\n",
    "        print(arr[-k])\n",
    "    else:\n",
    "        print(-1)"
   ]
  },
  {
   "cell_type": "code",
   "execution_count": 7,
   "metadata": {},
   "outputs": [
    {
     "name": "stdout",
     "output_type": "stream",
     "text": [
      "2\n",
      "aabcd\n",
      "3\n",
      "-1\n",
      "aabcd\n",
      "2\n",
      "b\n"
     ]
    }
   ],
   "source": [
    "# Exam problems problem number 3(easy)\n",
    "def alphabet_count(s,k):\n",
    "    d={}\n",
    "    for i in range(0,len(s),1):\n",
    "        if s[i] in d:\n",
    "            d[s[i]]+=1\n",
    "        else:\n",
    "            d[s[i]]=1\n",
    "    values=[]\n",
    "    for key,value in d.items():\n",
    "        values=values+[d[key]]\n",
    "        \n",
    "    values=list(set(values))\n",
    "    if k<=len(values):\n",
    "        for i in range(0,len(s),1):\n",
    "            if d[s[i]]==values[-k]:\n",
    "                print(s[i])\n",
    "                break\n",
    "    else:\n",
    "        print(-1)\n",
    "\n",
    "\n",
    "t=int(input())\n",
    "for i in range(0,t,1):\n",
    "    s=input()\n",
    "    k=int(input())\n",
    "    alphabet_count(s,k)"
   ]
  },
  {
   "cell_type": "code",
   "execution_count": 6,
   "metadata": {},
   "outputs": [
    {
     "ename": "TypeError",
     "evalue": "'str' object cannot be interpreted as an integer",
     "output_type": "error",
     "traceback": [
      "\u001b[1;31m---------------------------------------------------------------------------\u001b[0m",
      "\u001b[1;31mTypeError\u001b[0m                                 Traceback (most recent call last)",
      "\u001b[1;32m<ipython-input-6-c403f433bd67>\u001b[0m in \u001b[0;36m<module>\u001b[1;34m\u001b[0m\n\u001b[0;32m     48\u001b[0m \u001b[1;32mwith\u001b[0m \u001b[0mopen\u001b[0m\u001b[1;33m(\u001b[0m\u001b[1;34m'Datafiles/k-largest-frequency-input.txt'\u001b[0m\u001b[1;33m,\u001b[0m \u001b[1;34m'r'\u001b[0m\u001b[1;33m)\u001b[0m \u001b[1;32mas\u001b[0m \u001b[0mf\u001b[0m\u001b[1;33m:\u001b[0m\u001b[1;33m\u001b[0m\u001b[1;33m\u001b[0m\u001b[0m\n\u001b[0;32m     49\u001b[0m     \u001b[0mt\u001b[0m \u001b[1;33m=\u001b[0m \u001b[0mf\u001b[0m\u001b[1;33m.\u001b[0m\u001b[0mreadline\u001b[0m\u001b[1;33m(\u001b[0m\u001b[1;33m)\u001b[0m\u001b[1;33m\u001b[0m\u001b[1;33m\u001b[0m\u001b[0m\n\u001b[1;32m---> 50\u001b[1;33m     \u001b[1;32mfor\u001b[0m \u001b[0mi\u001b[0m \u001b[1;32min\u001b[0m \u001b[0mrange\u001b[0m\u001b[1;33m(\u001b[0m\u001b[0mt\u001b[0m\u001b[1;33m)\u001b[0m\u001b[1;33m:\u001b[0m\u001b[1;33m\u001b[0m\u001b[1;33m\u001b[0m\u001b[0m\n\u001b[0m\u001b[0;32m     51\u001b[0m         \u001b[0ms\u001b[0m \u001b[1;33m=\u001b[0m \u001b[0mf\u001b[0m\u001b[1;33m.\u001b[0m\u001b[0mreadline\u001b[0m\u001b[1;33m(\u001b[0m\u001b[1;33m)\u001b[0m\u001b[1;33m\u001b[0m\u001b[1;33m\u001b[0m\u001b[0m\n\u001b[0;32m     52\u001b[0m         \u001b[0mk\u001b[0m \u001b[1;33m=\u001b[0m \u001b[0mf\u001b[0m\u001b[1;33m.\u001b[0m\u001b[0mreadline\u001b[0m\u001b[1;33m(\u001b[0m\u001b[1;33m)\u001b[0m\u001b[1;33m\u001b[0m\u001b[1;33m\u001b[0m\u001b[0m\n",
      "\u001b[1;31mTypeError\u001b[0m: 'str' object cannot be interpreted as an integer"
     ]
    }
   ],
   "source": [
    "# Largest number in a list\n",
    "# Second Largest number in a list\n",
    "# Kth largest number in a list\n",
    "\n",
    "# Element with highest frequency\n",
    "# Second Highest frequency\n",
    "# Kth Highest frequency\n",
    "\n",
    "\n",
    "# {a:4, g:9, i:6, p:213, c:6}\n",
    "# [4,6,6,9,213]\n",
    "# [213, 10, 9, 6, 6, 4]\n",
    "# [a,c,g,i,p]\n",
    "#k = 5\n",
    "# li = []\n",
    "# for item in d.items():\n",
    "#    if item[1] == 6:\n",
    "#        li.append(item[0])\n",
    "#li = [i, c]\n",
    "\n",
    "def kLargestFrequency(s, k):\n",
    "    # Construct the frequency dictionary for all unique characters\n",
    "    #unique = []\n",
    "    freq = {}\n",
    "    for i in s:\n",
    "        if i not in freq.keys():\n",
    "            freq[i] = s.count(i)\n",
    "            \n",
    "    # Extract unique frequencies in descending order\n",
    "    values = sorted(freq.values(), reverse=True)\n",
    "    uniqueValues = list(set(values))\n",
    "    uniqueValues = sorted(uniqueValues, reverse=True)\n",
    "    \n",
    "    # Identify Kth largest frequency\n",
    "    if k < len(uniqueValues):\n",
    "        kvalue = uniqueValues[k-1]\n",
    "    else:\n",
    "        return -1\n",
    "\n",
    "    # Get all elements with Kth largest frequency\n",
    "    li = []\n",
    "    for item in freq.items():\n",
    "        if item[1] == kvalue:\n",
    "            li.append(item[0])\n",
    "    # Minimum of Kth Largest frequency\n",
    "    return min(li) \n",
    "\n",
    "with open('Datafiles/k-largest-frequency-input.txt', 'r') as f:\n",
    "    t = f.readline()\n",
    "    for i in range(t):\n",
    "        s = f.readline()\n",
    "        k = f.readline()\n",
    "        print(kLargestFrequency(s,k))"
   ]
  },
  {
   "cell_type": "code",
   "execution_count": null,
   "metadata": {},
   "outputs": [],
   "source": []
  }
 ],
 "metadata": {
  "kernelspec": {
   "display_name": "Python 3",
   "language": "python",
   "name": "python3"
  },
  "language_info": {
   "codemirror_mode": {
    "name": "ipython",
    "version": 3
   },
   "file_extension": ".py",
   "mimetype": "text/x-python",
   "name": "python",
   "nbconvert_exporter": "python",
   "pygments_lexer": "ipython3",
   "version": "3.7.3"
  }
 },
 "nbformat": 4,
 "nbformat_minor": 2
}
