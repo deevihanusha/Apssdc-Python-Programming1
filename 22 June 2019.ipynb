{
 "cells": [
  {
   "cell_type": "markdown",
   "metadata": {},
   "source": [
    "### Date : 22 June 2019\n",
    "\n",
    "\n",
    "## Day Objectives\n",
    "\n",
    "\n",
    "-File Handling\n",
    "    - Basic File Data Processing\n",
    "          - Accessing and modifying file data\n",
    "    - Character Count\n",
    "    - Line Count\n",
    "    - File Size\n",
    "    - Word Count\n",
    "    - Unique Word Count"
   ]
  },
  {
   "cell_type": "markdown",
   "metadata": {},
   "source": [
    "Basic File Data Processing: - file does exist\n",
    "    \n",
    "    # Read a file -FIle should exist(read mode)\n",
    "    # Write to a file - Existing(append) or New file(Write mode)\n",
    "    \n",
    "\n"
   ]
  },
  {
   "cell_type": "code",
   "execution_count": 4,
   "metadata": {},
   "outputs": [
    {
     "name": "stdout",
     "output_type": "stream",
     "text": [
      "hello\n",
      "line 1\n",
      "line 2\n",
      "line 3\n",
      "line 4\n"
     ]
    }
   ],
   "source": [
    "# read file\n",
    "def readFile(filePath):\n",
    "    with open(filepath,'r') as ref_var:\n",
    "        filedata=ref_var.read()\n",
    "    return filedata\n",
    "filePath ='DataFiles/22 junedata.txt'\n",
    "print(readFile(filePath))"
   ]
  },
  {
   "cell_type": "code",
   "execution_count": 6,
   "metadata": {},
   "outputs": [
    {
     "name": "stdout",
     "output_type": "stream",
     "text": [
      "Enter data to write into file This is ....................\n"
     ]
    }
   ],
   "source": [
    "# write file\n",
    "def writefile(filepath,filedata):\n",
    "    with open(filepath,'w') as ref_var:\n",
    "        ref_var.write(filedata)\n",
    "    return \n",
    "\n",
    "filepath='DataFiles/22 junedata.txt'\n",
    "filedata=input(\"Enter data to write into file \")\n",
    "\n",
    "writefile(filepath,filedata)"
   ]
  },
  {
   "cell_type": "code",
   "execution_count": 7,
   "metadata": {},
   "outputs": [
    {
     "name": "stdout",
     "output_type": "stream",
     "text": [
      "Enter data to write into file This is roja.\n"
     ]
    }
   ],
   "source": [
    "def writefile(filepath,filedata):\n",
    "    with open(filepath,'a') as ref_var:\n",
    "        ref_var.write(filedata)\n",
    "    return \n",
    "\n",
    "filepath='DataFiles/22 junedata.txt'\n",
    "filedata=input(\"Enter data to write into file \")\n",
    "\n",
    "writefile(filepath,filedata)"
   ]
  },
  {
   "cell_type": "code",
   "execution_count": 1,
   "metadata": {},
   "outputs": [
    {
     "name": "stdout",
     "output_type": "stream",
     "text": [
      "1. Read a file \n",
      " 2. Write a file \n",
      " 3. Append a file \n",
      "\n",
      "enter a number\n",
      "2\n",
      "enter the datathis is write mode\n",
      "\n",
      "Enter 1 to continue\n",
      "Enter 0 to exit\n",
      "\n",
      "1\n",
      "1. Read a file \n",
      " 2. Write a file \n",
      " 3. Append a file \n",
      "\n",
      "enter a number\n",
      "1\n",
      "this is write mode\n",
      "\n",
      "Enter 1 to continue\n",
      "Enter 0 to exit\n",
      "\n",
      "1\n",
      "1. Read a file \n",
      " 2. Write a file \n",
      " 3. Append a file \n",
      "\n",
      "enter a number\n",
      "3\n",
      "append the datathis is append mode\n",
      "\n",
      "Enter 1 to continue\n",
      "Enter 0 to exit\n",
      "\n",
      "1\n",
      "1. Read a file \n",
      " 2. Write a file \n",
      " 3. Append a file \n",
      "\n",
      "enter a number\n",
      "1\n",
      "this is write modethis is append mode\n",
      "\n",
      "Enter 1 to continue\n",
      "Enter 0 to exit\n",
      "\n",
      "0\n"
     ]
    }
   ],
   "source": [
    "# read write and append mode\n",
    "def readfile(filepath):\n",
    "    with open(filepath,'r') as f:\n",
    "        filedata=f.readlines()\n",
    "        for line in filedata:\n",
    "            print(line)\n",
    "\n",
    "def writefile(filepath,filedata):\n",
    "    with open(filepath,'w') as f:\n",
    "        f.write(filedata)\n",
    "    return\n",
    "\n",
    "def appendfile(filepath,filedata):\n",
    "    with open(filepath,'a') as f:\n",
    "        f.write(filedata)\n",
    "    return\n",
    "            \n",
    "c=1\n",
    "filepath='C:/Users/IIIT-rgukt/Desktop/problem solving programming in python - june-19 - L2/Apssdc-Python-Programming1/DataFiles/22 Junedata.txt'\n",
    "while c==1:\n",
    "    print(\"1. Read a file \\n 2. Write a file \\n 3. Append a file \\n\")\n",
    "    print(\"enter a number\")\n",
    "    n=int(input())\n",
    "    if n==1:\n",
    "            readfile(filepath)\n",
    "    elif n==2:\n",
    "        filedata=input(\"enter the data\")\n",
    "        writefile(filepath,filedata)\n",
    "            \n",
    "    elif n==3:\n",
    "            filedata=input(\"append the data\")\n",
    "            appendfile(filepath,filedata)\n",
    "    print(\"\\nEnter 1 to continue\\nEnter 0 to exit\\n\")\n",
    "    c=int(input())"
   ]
  },
  {
   "cell_type": "code",
   "execution_count": 5,
   "metadata": {},
   "outputs": [
    {
     "name": "stdout",
     "output_type": "stream",
     "text": [
      "31\n"
     ]
    }
   ],
   "source": [
    "#char count\n",
    "def char_count(filepath):\n",
    "    c=0\n",
    "    with open(filepath,'r') as ref_var:\n",
    "        for line in ref_var:                \n",
    "            for ch in line: \n",
    "                if ch!=' ':\n",
    "                    c=c+1\n",
    "    return c\n",
    "filePath ='DataFiles/22 junedata.txt'\n",
    "print(char_count(filePath))"
   ]
  },
  {
   "cell_type": "code",
   "execution_count": 6,
   "metadata": {},
   "outputs": [
    {
     "name": "stdout",
     "output_type": "stream",
     "text": [
      "1\n"
     ]
    }
   ],
   "source": [
    "#Line count\n",
    "def line_count(filepath):\n",
    "    c=0\n",
    "    with open(filepath,'r') as var:\n",
    "        for line in var:\n",
    "            c=c+1\n",
    "    return c\n",
    "filepath='DataFiles/22 junedata.txt'\n",
    "print(line_count(filepath))"
   ]
  },
  {
   "cell_type": "code",
   "execution_count": 7,
   "metadata": {},
   "outputs": [
    {
     "name": "stdout",
     "output_type": "stream",
     "text": [
      "DirEntry\n",
      "F_OK\n",
      "MutableMapping\n",
      "O_APPEND\n",
      "O_BINARY\n",
      "O_CREAT\n",
      "O_EXCL\n",
      "O_NOINHERIT\n",
      "O_RANDOM\n",
      "O_RDONLY\n",
      "O_RDWR\n",
      "O_SEQUENTIAL\n",
      "O_SHORT_LIVED\n",
      "O_TEMPORARY\n",
      "O_TEXT\n",
      "O_TRUNC\n",
      "O_WRONLY\n",
      "P_DETACH\n",
      "P_NOWAIT\n",
      "P_NOWAITO\n",
      "P_OVERLAY\n",
      "P_WAIT\n",
      "PathLike\n",
      "R_OK\n",
      "SEEK_CUR\n",
      "SEEK_END\n",
      "SEEK_SET\n",
      "TMP_MAX\n",
      "W_OK\n",
      "X_OK\n",
      "_Environ\n",
      "__all__\n",
      "__builtins__\n",
      "__cached__\n",
      "__doc__\n",
      "__file__\n",
      "__loader__\n",
      "__name__\n",
      "__package__\n",
      "__spec__\n",
      "_execvpe\n",
      "_exists\n",
      "_exit\n",
      "_fspath\n",
      "_get_exports_list\n",
      "_putenv\n",
      "_unsetenv\n",
      "_wrap_close\n",
      "abc\n",
      "abort\n",
      "access\n",
      "altsep\n",
      "chdir\n",
      "chmod\n",
      "close\n",
      "closerange\n",
      "cpu_count\n",
      "curdir\n",
      "defpath\n",
      "device_encoding\n",
      "devnull\n",
      "dup\n",
      "dup2\n",
      "environ\n",
      "error\n",
      "execl\n",
      "execle\n",
      "execlp\n",
      "execlpe\n",
      "execv\n",
      "execve\n",
      "execvp\n",
      "execvpe\n",
      "extsep\n",
      "fdopen\n",
      "fsdecode\n",
      "fsencode\n",
      "fspath\n",
      "fstat\n",
      "fsync\n",
      "ftruncate\n",
      "get_exec_path\n",
      "get_handle_inheritable\n",
      "get_inheritable\n",
      "get_terminal_size\n",
      "getcwd\n",
      "getcwdb\n",
      "getenv\n",
      "getlogin\n",
      "getpid\n",
      "getppid\n",
      "isatty\n",
      "kill\n",
      "linesep\n",
      "link\n",
      "listdir\n",
      "lseek\n",
      "lstat\n",
      "makedirs\n",
      "mkdir\n",
      "name\n",
      "open\n",
      "pardir\n",
      "path\n",
      "pathsep\n",
      "pipe\n",
      "popen\n",
      "putenv\n",
      "read\n",
      "readlink\n",
      "remove\n",
      "removedirs\n",
      "rename\n",
      "renames\n",
      "replace\n",
      "rmdir\n",
      "scandir\n",
      "sep\n",
      "set_handle_inheritable\n",
      "set_inheritable\n",
      "spawnl\n",
      "spawnle\n",
      "spawnv\n",
      "spawnve\n",
      "st\n",
      "startfile\n",
      "stat\n",
      "stat_result\n",
      "statvfs_result\n",
      "strerror\n",
      "supports_bytes_environ\n",
      "supports_dir_fd\n",
      "supports_effective_ids\n",
      "supports_fd\n",
      "supports_follow_symlinks\n",
      "symlink\n",
      "sys\n",
      "system\n",
      "terminal_size\n",
      "times\n",
      "times_result\n",
      "truncate\n",
      "umask\n",
      "uname_result\n",
      "unlink\n",
      "urandom\n",
      "utime\n",
      "waitpid\n",
      "walk\n",
      "write\n"
     ]
    }
   ],
   "source": [
    "import os\n",
    "for i in dir(os):\n",
    "    print(i)"
   ]
  },
  {
   "cell_type": "code",
   "execution_count": null,
   "metadata": {},
   "outputs": [],
   "source": []
  },
  {
   "cell_type": "code",
   "execution_count": 8,
   "metadata": {},
   "outputs": [
    {
     "name": "stdout",
     "output_type": "stream",
     "text": [
      "__doc__\n",
      "__loader__\n",
      "__name__\n",
      "__package__\n",
      "__spec__\n",
      "acos\n",
      "acosh\n",
      "asin\n",
      "asinh\n",
      "atan\n",
      "atan2\n",
      "atanh\n",
      "ceil\n",
      "copysign\n",
      "cos\n",
      "cosh\n",
      "degrees\n",
      "e\n",
      "erf\n",
      "erfc\n",
      "exp\n",
      "expm1\n",
      "fabs\n",
      "factorial\n",
      "floor\n",
      "fmod\n",
      "frexp\n",
      "fsum\n",
      "gamma\n",
      "gcd\n",
      "hypot\n",
      "inf\n",
      "isclose\n",
      "isfinite\n",
      "isinf\n",
      "isnan\n",
      "ldexp\n",
      "lgamma\n",
      "log\n",
      "log10\n",
      "log1p\n",
      "log2\n",
      "modf\n",
      "nan\n",
      "pi\n",
      "pow\n",
      "radians\n",
      "remainder\n",
      "sin\n",
      "sinh\n",
      "sqrt\n",
      "tan\n",
      "tanh\n",
      "tau\n",
      "trunc\n"
     ]
    }
   ],
   "source": [
    "\n",
    "import math\n",
    "for i in dir(math):\n",
    "    print(i)"
   ]
  },
  {
   "cell_type": "code",
   "execution_count": 13,
   "metadata": {},
   "outputs": [
    {
     "name": "stdout",
     "output_type": "stream",
     "text": [
      "37\n"
     ]
    }
   ],
   "source": [
    "#file size\n",
    "import os\n",
    "var=os.path.getsize(\"DataFiles/22 junedata.txt\")\n",
    "print(var)"
   ]
  },
  {
   "cell_type": "code",
   "execution_count": 19,
   "metadata": {},
   "outputs": [],
   "source": [
    "#another method for line count\n",
    "with open(\"DataFiles/22 junedata.txt\",\"r\") as fh:\n",
    "    linenum=1\n",
    "    lines=fh.readlines()\n",
    "fw=open(\"DataFiles/22 junedata.txt\",\"w\")\n",
    "for line in lines:\n",
    "    print(linenum,line,end=\"\",sep=\".\",file=fw)\n",
    "    line+=1\n",
    "fw.close()"
   ]
  },
  {
   "cell_type": "code",
   "execution_count": 6,
   "metadata": {},
   "outputs": [
    {
     "data": {
      "text/plain": [
       "8"
      ]
     },
     "execution_count": 6,
     "metadata": {},
     "output_type": "execute_result"
    }
   ],
   "source": [
    "# Word count\n",
    "import re\n",
    "def word_count(filepath):\n",
    "    with open(filepath,'r') as f:\n",
    "        pattern='[ \\n]'\n",
    "        filedata=f.read()\n",
    "        count=len(re.split(pattern,filedata))\n",
    "    return count\n",
    "\n",
    "filepath='DataFiles/22 junedata.txt'\n",
    "word_count(filepath)\n",
    "        "
   ]
  },
  {
   "cell_type": "code",
   "execution_count": null,
   "metadata": {},
   "outputs": [],
   "source": [
    "#Unique word\n",
    "def uniquewordcount(filepath):\n",
    "    with open(filepath,'r') as f:\n",
    "        filedata=f.read()\n",
    "        for i in filedata:\n",
    "            count=\n"
   ]
  },
  {
   "cell_type": "code",
   "execution_count": 9,
   "metadata": {},
   "outputs": [
    {
     "data": {
      "text/plain": [
       "42"
      ]
     },
     "execution_count": 9,
     "metadata": {},
     "output_type": "execute_result"
    }
   ],
   "source": [
    "#character count\n",
    "def charCountfile(filepath):\n",
    "    with open(filepath,'r') as f:\n",
    "        filedata=f.read()\n",
    "        count=len(filedata)\n",
    "    return count\n",
    "\n",
    "filepath='DataFiles/22 junedata.txt'\n",
    "charCountfile(filepath)"
   ]
  },
  {
   "cell_type": "code",
   "execution_count": 16,
   "metadata": {},
   "outputs": [
    {
     "name": "stdout",
     "output_type": "stream",
     "text": [
      "['data', 'in', 'line1', 'data', 'in', 'line2', 'data', 'in', 'line3']\n"
     ]
    },
    {
     "data": {
      "text/plain": [
       "0"
      ]
     },
     "execution_count": 16,
     "metadata": {},
     "output_type": "execute_result"
    }
   ],
   "source": [
    "# Function to get unique elements in a list\n",
    "#[1,2,3,3,2,1] -> [1,2,3]\n",
    "def uniqueWords(filepath):\n",
    "    count=0\n",
    "    filepath='DataFiles/22 junedata.txt'\n",
    "    with open(filepath,'r') as f:\n",
    "        filedata=f.read().split()\n",
    "        print(filedata)\n",
    "        \n",
    "        unique=[]\n",
    "        for element in unique:\n",
    "            if element not in unique:\n",
    "                unique.append(element)\n",
    "                count+=1\n",
    "            print(unique)\n",
    "        return count\n",
    "\n",
    "uniqueWords(filepath)"
   ]
  },
  {
   "cell_type": "code",
   "execution_count": 20,
   "metadata": {},
   "outputs": [
    {
     "name": "stdout",
     "output_type": "stream",
     "text": [
      "['data', 'in', 'line1', 'data', 'in', 'line2', 'data', 'in', 'line3']\n",
      "['data', 'in', 'line1', 'line2', 'line3']\n"
     ]
    },
    {
     "data": {
      "text/plain": [
       "5"
      ]
     },
     "execution_count": 20,
     "metadata": {},
     "output_type": "execute_result"
    }
   ],
   "source": [
    "#count the number of words in a text file\n",
    "def uniqueWords(filepath):\n",
    "    count=0\n",
    "    filepath=\"DataFiles/22 Junedata.txt\"\n",
    "    with open(filepath,\"r\") as f:\n",
    "        filedata=f.read().split()\n",
    "        print(filedata)\n",
    "       #create an empty unique list\n",
    "        unique=[]\n",
    "       #for every't  element in the main list,\n",
    "       #check if it exits in the unique list.\n",
    "       #if it doesn't exist,add add it to unique list.\n",
    "       #else if it is already exists,mpove on to the list\n",
    "        for element in filedata:\n",
    "            if element not in unique:\n",
    "                unique.append(element)\n",
    "                count+=1\n",
    "        print(unique)\n",
    "    return count\n",
    "       \n",
    "uniqueWords(filepath)"
   ]
  },
  {
   "cell_type": "code",
   "execution_count": 2,
   "metadata": {},
   "outputs": [
    {
     "name": "stdout",
     "output_type": "stream",
     "text": [
      "['data', 'in', 'line1', 'data', 'in', 'line2', 'data', 'in', 'line3']\n",
      "data :  3\n",
      "in :  3\n",
      "line1 :  1\n",
      "line2 :  1\n",
      "line3 :  1\n"
     ]
    }
   ],
   "source": [
    "def frequencyCount(filepath): \n",
    "    count = {} \n",
    "    with open(filepath, 'r') as f:\n",
    "        filedata = f.read().split()\n",
    "        print(filedata)\n",
    "        for i in filedata: \n",
    "            if i not in count: \n",
    "                count[i] = 1\n",
    "            else: \n",
    "                count[i] += 1\n",
    "    for key, value in count.items():\n",
    "        print (\"% s : % d\" %(key, value)) \n",
    "\n",
    "filepath = \"DataFiles/22 junedata.txt\"\n",
    "frequencyCount(filepath) "
   ]
  },
  {
   "cell_type": "code",
   "execution_count": null,
   "metadata": {},
   "outputs": [],
   "source": []
  }
 ],
 "metadata": {
  "kernelspec": {
   "display_name": "Python 3",
   "language": "python",
   "name": "python3"
  },
  "language_info": {
   "codemirror_mode": {
    "name": "ipython",
    "version": 3
   },
   "file_extension": ".py",
   "mimetype": "text/x-python",
   "name": "python",
   "nbconvert_exporter": "python",
   "pygments_lexer": "ipython3",
   "version": "3.7.3"
  }
 },
 "nbformat": 4,
 "nbformat_minor": 2
}
