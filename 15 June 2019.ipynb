{
 "cells": [
  {
   "cell_type": "markdown",
   "metadata": {},
   "source": [
    "#### def prime(n):\n",
    "    for i in range(2,n+1,1):\n",
    "        count=0\n",
    "        for j in range(1,i+1,1):\n",
    "            if i%j==0:\n",
    "                count=count+1\n",
    "        if count==2:\n",
    "            print(i,end=\" \")\n",
    "n=int(input())\n",
    "prime(n)"
   ]
  },
  {
   "cell_type": "code",
   "execution_count": 12,
   "metadata": {},
   "outputs": [
    {
     "name": "stdout",
     "output_type": "stream",
     "text": [
      "hanusha\n",
      "HANUSHA\n"
     ]
    }
   ],
   "source": [
    "## Toggle String\n",
    "def toggle(string):\n",
    "    str=\"\"\n",
    "    for i in range(0,len(string),1):\n",
    "        if string[i].islower() == True:\n",
    "            str=str+string[i].upper()\n",
    "        else:\n",
    "            str=str+string[i].lower()\n",
    "    print(str)\n",
    "string=input()\n",
    "toggle(string)# Write your code here\n"
   ]
  },
  {
   "cell_type": "code",
   "execution_count": null,
   "metadata": {},
   "outputs": [],
   "source": [
    "#palindrome\n",
    "def palindrome(s):\n",
    "    s1=s[::-1]\n",
    "    if s==s1:\n",
    "        print(\"YES\")\n",
    "    else:\n",
    "        print(\"NO\")\n",
    "s=input()\n",
    "palindrome(s)"
   ]
  },
  {
   "cell_type": "code",
   "execution_count": null,
   "metadata": {},
   "outputs": [],
   "source": []
  },
  {
   "cell_type": "code",
   "execution_count": 10,
   "metadata": {},
   "outputs": [
    {
     "name": "stdout",
     "output_type": "stream",
     "text": [
      "1\n",
      "helllo helllo\n",
      "Yes\n"
     ]
    }
   ],
   "source": [
    "def twostrings(s1,s2):\n",
    "    if s1==s2:\n",
    "        print(\"Yes\")\n",
    "    else:\n",
    "        print(\"No\")\n",
    "        \n",
    "    '''c=0\n",
    "    for char in range(0,len(s1)):\n",
    "        if (s1[char] in s2)!=True:\n",
    "            c=1\n",
    "    if(c==1):\n",
    "        print(\"No\")\n",
    "    else :\n",
    "        print(\"yes\")'''\n",
    "\n",
    "n=int(input())        \n",
    "for i in range(0,n,1):\n",
    "    s=input()\n",
    "    s=s.split()\n",
    "    s1=s[0]\n",
    "    s2=s[1]\n",
    "    twostrings(s1,s2)"
   ]
  },
  {
   "cell_type": "code",
   "execution_count": null,
   "metadata": {},
   "outputs": [],
   "source": [
    "def duration(SH,SM,EH,EM):\n",
    "    starthrs=sh*60\n",
    "    startmins=sh*\n",
    "    \n",
    "\n",
    "n=int(input())\n",
    "for i in range(0,n,1):\n",
    "    s=input()\n",
    "    s=s.split()\n",
    "    SH=s[0]\n",
    "    SM=s[1]\n",
    "    EH=s[2]\n",
    "    EM=s[3]\n",
    "    duration(SH,SM,EH,EM)"
   ]
  },
  {
   "cell_type": "code",
   "execution_count": null,
   "metadata": {},
   "outputs": [],
   "source": []
  },
  {
   "cell_type": "code",
   "execution_count": 6,
   "metadata": {},
   "outputs": [
    {
     "name": "stdout",
     "output_type": "stream",
     "text": [
      "1\n",
      "hello hello hello\n",
      "YES\n"
     ]
    }
   ],
   "source": [
    "#two strings\n",
    "n=int(input())\n",
    "for i in range(n):\n",
    "    z=list(input().split(' '))\n",
    "    if sorted(z[0])==sorted(z[1]):\n",
    "        print(\"YES\")\n",
    "    else:\n",
    "        print(\"NO\")"
   ]
  },
  {
   "cell_type": "code",
   "execution_count": 10,
   "metadata": {},
   "outputs": [
    {
     "name": "stdout",
     "output_type": "stream",
     "text": [
      "ha\n",
      "9\n"
     ]
    }
   ],
   "source": [
    "#Charsum\n",
    "def charsum(s):\n",
    "    sum=0\n",
    "    \n",
    "    for i in range(0,len(s),1):\n",
    "        sum=sum+((ord(s[i]))-96)\n",
    "    print(sum)\n",
    "    \n",
    "s=input()\n",
    "charsum(s)"
   ]
  },
  {
   "cell_type": "code",
   "execution_count": 5,
   "metadata": {},
   "outputs": [
    {
     "data": {
      "text/plain": [
       "97"
      ]
     },
     "execution_count": 5,
     "metadata": {},
     "output_type": "execute_result"
    }
   ],
   "source": [
    "ord(\"a\")"
   ]
  },
  {
   "cell_type": "code",
   "execution_count": null,
   "metadata": {},
   "outputs": [],
   "source": [
    "## Play with numbers\n"
   ]
  },
  {
   "cell_type": "code",
   "execution_count": 4,
   "metadata": {},
   "outputs": [
    {
     "name": "stdout",
     "output_type": "stream",
     "text": [
      "2\n",
      "1 44 2 14\n",
      "0 30\n",
      "2 42 8 23\n",
      "5 41\n"
     ]
    }
   ],
   "source": [
    "def time(SH,SM,EH,EM):\n",
    "    hrs=0\n",
    "    M=0\n",
    "    if (SM<=EM):\n",
    "        hrs=EH-SH\n",
    "        M=EM-SM\n",
    "    else:\n",
    "        hrs=EH-SH-1\n",
    "        M=(60-SM)+EM\n",
    "    print(hrs,end=\" \")\n",
    "    print(M)\n",
    "\n",
    "n=int(input())\n",
    "for i in range(0,n,1):\n",
    "    li=input()\n",
    "    li=li.split()\n",
    "    SH=int(li[0])\n",
    "    SM=int(li[1])\n",
    "    EH=int(li[2])\n",
    "    EM=int(li[3])\n",
    "    time(SH,SM,EH,EM)"
   ]
  },
  {
   "cell_type": "code",
   "execution_count": null,
   "metadata": {},
   "outputs": [],
   "source": []
  }
 ],
 "metadata": {
  "kernelspec": {
   "display_name": "Python 3",
   "language": "python",
   "name": "python3"
  },
  "language_info": {
   "codemirror_mode": {
    "name": "ipython",
    "version": 3
   },
   "file_extension": ".py",
   "mimetype": "text/x-python",
   "name": "python",
   "nbconvert_exporter": "python",
   "pygments_lexer": "ipython3",
   "version": "3.7.3"
  }
 },
 "nbformat": 4,
 "nbformat_minor": 2
}
