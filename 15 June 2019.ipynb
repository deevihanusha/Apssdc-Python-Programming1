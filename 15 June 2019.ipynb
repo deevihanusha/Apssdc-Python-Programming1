{
 "cells": [
  {
   "cell_type": "code",
   "execution_count": 10,
   "metadata": {},
   "outputs": [
    {
     "name": "stdout",
     "output_type": "stream",
     "text": [
      "9\n",
      "2 3 5 7 "
     ]
    }
   ],
   "source": [
    "def prime(n):\n",
    "    for i in range(2,n+1,1):\n",
    "        count=0\n",
    "        for j in range(1,i+1,1):\n",
    "            if i%j==0:\n",
    "                count=count+1\n",
    "        if count==2:\n",
    "            print(i,end=\" \")\n",
    "n=int(input())\n",
    "prime(n)"
   ]
  },
  {
   "cell_type": "code",
   "execution_count": null,
   "metadata": {},
   "outputs": [],
   "source": []
  },
  {
   "cell_type": "code",
   "execution_count": 10,
   "metadata": {},
   "outputs": [
    {
     "name": "stdout",
     "output_type": "stream",
     "text": [
      "1\n",
      "helllo helllo\n",
      "Yes\n"
     ]
    }
   ],
   "source": [
    "def twostrings(s1,s2):\n",
    "    if s1==s2:\n",
    "        print(\"Yes\")\n",
    "    else:\n",
    "        print(\"No\")\n",
    "        \n",
    "    '''c=0\n",
    "    for char in range(0,len(s1)):\n",
    "        if (s1[char] in s2)!=True:\n",
    "            c=1\n",
    "    if(c==1):\n",
    "        print(\"No\")\n",
    "    else :\n",
    "        print(\"yes\")'''\n",
    "\n",
    "n=int(input())        \n",
    "for i in range(0,n,1):\n",
    "    s=input()\n",
    "    s=s.split()\n",
    "    s1=s[0]\n",
    "    s2=s[1]\n",
    "    twostrings(s1,s2)"
   ]
  },
  {
   "cell_type": "code",
   "execution_count": null,
   "metadata": {},
   "outputs": [],
   "source": [
    "def duration(SH,SM,EH,EM)\n",
    "\n",
    "n=input()\n",
    "for i in range(0,n,1):\n",
    "    s=input()\n",
    "    s=s.split()\n",
    "    SH=s[0]\n",
    "    SM=s[1]\n",
    "    EH=s[2]\n",
    "    EM=s[3]\n",
    "    duration(SH,SM,EH,EM)"
   ]
  },
  {
   "cell_type": "code",
   "execution_count": 6,
   "metadata": {},
   "outputs": [
    {
     "name": "stdout",
     "output_type": "stream",
     "text": [
      "1\n",
      "hello hello hello\n",
      "YES\n"
     ]
    }
   ],
   "source": [
    "n=int(input())\n",
    "for i in range(n):\n",
    "    z=list(input().split(' '))\n",
    "    if sorted(z[0])==sorted(z[1])==sorted(z[2]):\n",
    "        print(\"YES\")\n",
    "    else:\n",
    "        print(\"NO\")"
   ]
  },
  {
   "cell_type": "code",
   "execution_count": null,
   "metadata": {},
   "outputs": [],
   "source": []
  }
 ],
 "metadata": {
  "kernelspec": {
   "display_name": "Python 3",
   "language": "python",
   "name": "python3"
  },
  "language_info": {
   "codemirror_mode": {
    "name": "ipython",
    "version": 3
   },
   "file_extension": ".py",
   "mimetype": "text/x-python",
   "name": "python",
   "nbconvert_exporter": "python",
   "pygments_lexer": "ipython3",
   "version": "3.7.3"
  }
 },
 "nbformat": 4,
 "nbformat_minor": 2
}
