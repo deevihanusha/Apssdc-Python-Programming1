{
 "cells": [
  {
   "cell_type": "code",
   "execution_count": 2,
   "metadata": {},
   "outputs": [
    {
     "name": "stdout",
     "output_type": "stream",
     "text": [
      "['1' '2' '3' 'z']\n"
     ]
    },
    {
     "data": {
      "text/plain": [
       "array([ 0,  1,  2,  3,  4,  5,  6,  7,  8,  9, 10, 11, 12, 13, 14])"
      ]
     },
     "execution_count": 2,
     "metadata": {},
     "output_type": "execute_result"
    }
   ],
   "source": [
    "import numpy as np\n",
    "li = [1,2,3, 'z']\n",
    "\n",
    "a = np.array(li)\n",
    "print(a)\n",
    "b = np.arange(15)\n",
    "b"
   ]
  },
  {
   "cell_type": "code",
   "execution_count": 26,
   "metadata": {},
   "outputs": [
    {
     "name": "stdout",
     "output_type": "stream",
     "text": [
      "[[[[0 1 0]\n",
      "   [0 1 1]\n",
      "   [1 0 0]]\n",
      "\n",
      "  [[0 0 1]\n",
      "   [0 1 1]\n",
      "   [1 1 0]]\n",
      "\n",
      "  [[1 0 0]\n",
      "   [1 1 0]\n",
      "   [1 1 0]]]\n",
      "\n",
      "\n",
      " [[[1 0 0]\n",
      "   [0 1 0]\n",
      "   [0 0 1]]\n",
      "\n",
      "  [[1 1 1]\n",
      "   [0 0 0]\n",
      "   [1 1 0]]\n",
      "\n",
      "  [[0 0 1]\n",
      "   [0 1 1]\n",
      "   [0 1 1]]]\n",
      "\n",
      "\n",
      " [[[1 1 0]\n",
      "   [0 1 1]\n",
      "   [0 0 0]]\n",
      "\n",
      "  [[1 1 0]\n",
      "   [0 1 0]\n",
      "   [1 0 1]]\n",
      "\n",
      "  [[0 1 1]\n",
      "   [0 0 1]\n",
      "   [1 0 0]]]]\n"
     ]
    }
   ],
   "source": [
    "import numpy as np\n",
    "m3 = np.random.randint(0,2,size=(3,3,3,3))\n",
    "m3[2][2][2][1]\n",
    "print(m3)"
   ]
  },
  {
   "cell_type": "markdown",
   "metadata": {},
   "source": [
    "m3.ndim\n",
    "m3.size\n",
    "m3.shape\n",
    "m3.dtype\n",
    "m3.itemsize\n",
    "m3.nbytes"
   ]
  },
  {
   "cell_type": "code",
   "execution_count": 32,
   "metadata": {},
   "outputs": [
    {
     "name": "stdout",
     "output_type": "stream",
     "text": [
      "4\n",
      "81\n",
      "(3, 3, 3, 3)\n",
      "int32\n",
      "4\n",
      "324\n"
     ]
    }
   ],
   "source": [
    "m=m3.ndim\n",
    "print(m)\n",
    "a=m3.size\n",
    "print(a)\n",
    "b=m3.shape\n",
    "print(b)\n",
    "c=m3.dtype\n",
    "print(c)\n",
    "d=m3.itemsize\n",
    "print(d)\n",
    "e=m3.nbytes\n",
    "print(e)"
   ]
  },
  {
   "cell_type": "code",
   "execution_count": null,
   "metadata": {},
   "outputs": [],
   "source": []
  },
  {
   "cell_type": "code",
   "execution_count": null,
   "metadata": {},
   "outputs": [],
   "source": []
  }
 ],
 "metadata": {
  "kernelspec": {
   "display_name": "Python 3",
   "language": "python",
   "name": "python3"
  },
  "language_info": {
   "codemirror_mode": {
    "name": "ipython",
    "version": 3
   },
   "file_extension": ".py",
   "mimetype": "text/x-python",
   "name": "python",
   "nbconvert_exporter": "python",
   "pygments_lexer": "ipython3",
   "version": "3.7.3"
  }
 },
 "nbformat": 4,
 "nbformat_minor": 2
}
