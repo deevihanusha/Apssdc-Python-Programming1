{
 "cells": [
  {
   "cell_type": "markdown",
   "metadata": {},
   "source": [
    "## Set - Data Structure in Python\n",
    "\n",
    "\n",
    "* set doesn't accept indexing"
   ]
  },
  {
   "cell_type": "code",
   "execution_count": 15,
   "metadata": {},
   "outputs": [
    {
     "name": "stdout",
     "output_type": "stream",
     "text": [
      "{1, 2, 3, 4, 5, 6}\n",
      "{1, 2, 3, 4, 5, 6}\n",
      "{1, 2, 3, 4, 5, 6, 7}\n",
      "1 2 3 4 5 6 7 \n",
      " {1, 2, 3, 4, 5, 6, 7, 8, 9, 10, 11, 12, 13}\n",
      "{1, 2, 3, 4, 5, 6, 7, 8, 9, 10, 12, 13}\n"
     ]
    }
   ],
   "source": [
    "a={1,2,3,4,5,6}\n",
    "print(a)\n",
    "\n",
    "a1={1,2,3,4,5,6,4}\n",
    "print(a1)    #here 4 is deleted\n",
    "\n",
    "a.add(7)          # Adding a single element in a list\n",
    "print(a)\n",
    "\n",
    "# Accessing elements\n",
    "for i in a:\n",
    "    print(i,end=' ')\n",
    "    \n",
    "    \n",
    "b={8,9,10}\n",
    "li=[10,11,12,13,1]\n",
    "a.update(b,li)\n",
    "print(\"\\n\",a)\n",
    "\n",
    "\n",
    "a.discard(11)\n",
    "print(a)"
   ]
  },
  {
   "cell_type": "code",
   "execution_count": 26,
   "metadata": {},
   "outputs": [
    {
     "name": "stdout",
     "output_type": "stream",
     "text": [
      "{1, 2, 3, 4, 5, 6, 7, 8, 9, 10, 12}\n",
      "{7}\n"
     ]
    }
   ],
   "source": [
    "\n",
    "# Union\n",
    "a={1,2,3,4,5,6,7}\n",
    "b={10,9,8,7,12}\n",
    "d={111,112}\n",
    "c=a.union(b)\n",
    "print(c)\n",
    "\n",
    "\n",
    "a={1,2,3,4,5,6,7}\n",
    "b={10,9,8,7,12}\n",
    "c=a.intersection(b)\n",
    "print(c)"
   ]
  },
  {
   "cell_type": "code",
   "execution_count": 28,
   "metadata": {},
   "outputs": [
    {
     "name": "stdout",
     "output_type": "stream",
     "text": [
      "{1, 2, 3, 4, 5, 6}\n",
      "{8, 9, 10, 12}\n"
     ]
    }
   ],
   "source": [
    "a.isdisjoint(d)\n",
    "\n",
    "print(a-b)\n",
    "print(b-a)"
   ]
  },
  {
   "cell_type": "code",
   "execution_count": 29,
   "metadata": {},
   "outputs": [
    {
     "data": {
      "text/plain": [
       "{1, 2, 3, 4, 5, 6, 8, 9, 10, 12}"
      ]
     },
     "execution_count": 29,
     "metadata": {},
     "output_type": "execute_result"
    }
   ],
   "source": [
    "a={1,2,3,4,5,6,7}\n",
    "b={10,9,8,7,12}\n",
    "a^b"
   ]
  },
  {
   "cell_type": "code",
   "execution_count": 31,
   "metadata": {},
   "outputs": [
    {
     "name": "stdout",
     "output_type": "stream",
     "text": [
      "set()\n",
      "{1, 2, 3, 4}\n"
     ]
    }
   ],
   "source": [
    "# Blank set\n",
    "d=set()\n",
    "print(d)\n",
    "\n",
    "a=[1,2,3,4]\n",
    "d.update(a)\n",
    "print(d)"
   ]
  },
  {
   "cell_type": "code",
   "execution_count": 33,
   "metadata": {},
   "outputs": [
    {
     "name": "stdout",
     "output_type": "stream",
     "text": [
      "[1, 2, 3, 4, 5, 6, 7, 8, 9, 10, 9, 9, 8, 7]\n",
      "{1, 2, 3, 4, 5, 6, 7, 8, 9, 10}\n"
     ]
    }
   ],
   "source": [
    "l=[1,2,3,4,5,6,7,8,9,10,9,9,8,7]\n",
    "print(l)\n",
    "\n",
    "s=set(l)\n",
    "print(s)"
   ]
  },
  {
   "cell_type": "code",
   "execution_count": null,
   "metadata": {},
   "outputs": [],
   "source": []
  },
  {
   "cell_type": "markdown",
   "metadata": {},
   "source": [
    "## functional Programming\n",
    "\n",
    "\n",
    "* Object Oriented : Java , Python\n",
    "* Scripting : PHP, Python ,Java Script, Shell\n",
    "* Functional : Python , Haskell , \n",
    "* Logic : Prolog , Lisp"
   ]
  },
  {
   "cell_type": "code",
   "execution_count": null,
   "metadata": {},
   "outputs": [],
   "source": []
  },
  {
   "cell_type": "markdown",
   "metadata": {},
   "source": [
    "## List Comprehensions"
   ]
  },
  {
   "cell_type": "code",
   "execution_count": 3,
   "metadata": {},
   "outputs": [
    {
     "name": "stdout",
     "output_type": "stream",
     "text": [
      "10\n"
     ]
    },
    {
     "data": {
      "text/plain": [
       "[1, 2, 3, 4, 5, 6, 7, 8, 9, 10]"
      ]
     },
     "execution_count": 3,
     "metadata": {},
     "output_type": "execute_result"
    }
   ],
   "source": [
    "# N Natural numbers in a list\n",
    "li=[]\n",
    "n=int(input())\n",
    "for i in range(1,n+1):\n",
    "    li.append(i)\n",
    "li"
   ]
  },
  {
   "cell_type": "code",
   "execution_count": null,
   "metadata": {},
   "outputs": [],
   "source": []
  },
  {
   "cell_type": "code",
   "execution_count": 4,
   "metadata": {},
   "outputs": [
    {
     "data": {
      "text/plain": [
       "[1, 2, 3, 4, 5, 6, 7, 8, 9, 10]"
      ]
     },
     "execution_count": 4,
     "metadata": {},
     "output_type": "execute_result"
    }
   ],
   "source": [
    "# Applying list comprehension to store the \n",
    "# cubes on n natural numbers\n",
    "\n",
    "li = [i for i in range(1,11)]\n",
    "li"
   ]
  },
  {
   "cell_type": "code",
   "execution_count": 5,
   "metadata": {},
   "outputs": [
    {
     "data": {
      "text/plain": [
       "[1, 8, 27, 64, 125, 216, 343, 512, 729, 1000]"
      ]
     },
     "execution_count": 5,
     "metadata": {},
     "output_type": "execute_result"
    }
   ],
   "source": [
    "li = [i**3 for i in range(1,11)]\n",
    "li"
   ]
  },
  {
   "cell_type": "code",
   "execution_count": 8,
   "metadata": {},
   "outputs": [
    {
     "data": {
      "text/plain": [
       "[1, 2, 6, 24, 120]"
      ]
     },
     "execution_count": 8,
     "metadata": {},
     "output_type": "execute_result"
    }
   ],
   "source": [
    "def factorial(n):\n",
    "    if n==0 or n==1:\n",
    "        return 1\n",
    "    return n* factorial(n-1)\n",
    "\n",
    "n=5\n",
    "FactorialList =[factorial(i) for i in range(1,n+1)]\n",
    "FactorialList"
   ]
  },
  {
   "cell_type": "code",
   "execution_count": 1,
   "metadata": {},
   "outputs": [
    {
     "name": "stdout",
     "output_type": "stream",
     "text": [
      "5\n",
      "[1, 3, 6, 10, 15]\n"
     ]
    }
   ],
   "source": [
    "# store cummulative sum of numbers till n in\n",
    "# n = 5 --> [1,3,6,10,15]\n",
    "\n",
    "n=int(input())\n",
    "li = [i for i in range(1,n+1)]\n",
    "sum=[sum(li[0:i]) for i in range(1,len(li)+1)]\n",
    "print(sum)"
   ]
  },
  {
   "cell_type": "code",
   "execution_count": 6,
   "metadata": {},
   "outputs": [
    {
     "data": {
      "text/plain": [
       "[1972, 1976, 1980, 1984, 1988, 1992, 1996, 2000, 2004, 2008, 2012, 2016]"
      ]
     },
     "execution_count": 6,
     "metadata": {},
     "output_type": "execute_result"
    }
   ],
   "source": [
    "# Function to store only leap years in a given time period - use list\n",
    "start=1970\n",
    "end=2019\n",
    "year = [i for i in range(start,end+1)\n",
    "if i%400 == 0 or i%100 !=0 and i%4==0]\n",
    "year"
   ]
  },
  {
   "cell_type": "code",
   "execution_count": 7,
   "metadata": {},
   "outputs": [
    {
     "data": {
      "text/plain": [
       "[3]"
      ]
     },
     "execution_count": 7,
     "metadata": {},
     "output_type": "execute_result"
    }
   ],
   "source": [
    "li = [1,2,3,2,1]\n",
    "unique = []\n",
    "unique = [i for i in li if li.count(i) == 1]\n",
    "unique"
   ]
  },
  {
   "cell_type": "code",
   "execution_count": null,
   "metadata": {},
   "outputs": [],
   "source": []
  },
  {
   "cell_type": "code",
   "execution_count": null,
   "metadata": {},
   "outputs": [],
   "source": []
  },
  {
   "cell_type": "code",
   "execution_count": null,
   "metadata": {},
   "outputs": [],
   "source": []
  },
  {
   "cell_type": "markdown",
   "metadata": {},
   "source": [
    "## Iterators"
   ]
  },
  {
   "cell_type": "code",
   "execution_count": 16,
   "metadata": {},
   "outputs": [
    {
     "name": "stdout",
     "output_type": "stream",
     "text": [
      "1:\n",
      "H\n",
      "\n",
      "\n",
      "2: \n",
      "a\n"
     ]
    }
   ],
   "source": [
    "it = iter('Hanusha')\n",
    "print('1:')\n",
    "print(next(it))\n",
    "print('\\n')\n",
    "print('2: ')\n",
    "print(next(it))\n"
   ]
  },
  {
   "cell_type": "code",
   "execution_count": null,
   "metadata": {},
   "outputs": [],
   "source": []
  },
  {
   "cell_type": "markdown",
   "metadata": {},
   "source": [
    "## Generators"
   ]
  },
  {
   "cell_type": "markdown",
   "metadata": {},
   "source": [
    "* Generating is function\n"
   ]
  },
  {
   "cell_type": "code",
   "execution_count": 11,
   "metadata": {},
   "outputs": [
    {
     "name": "stdout",
     "output_type": "stream",
     "text": [
      "2\n",
      "8\n"
     ]
    }
   ],
   "source": [
    "def generator():\n",
    "    n=2\n",
    "    yield n\n",
    "    \n",
    "    n=n**3\n",
    "    yield n\n",
    "    \n",
    "    n=n ** 3\n",
    "    yield n\n",
    "    print(n)\n",
    "a=generator()\n",
    "print(next(a))\n",
    "print(next(a))"
   ]
  },
  {
   "cell_type": "code",
   "execution_count": 12,
   "metadata": {},
   "outputs": [
    {
     "name": "stdout",
     "output_type": "stream",
     "text": [
      "2\n",
      "8\n"
     ]
    }
   ],
   "source": [
    "def genereator():\n",
    "    n=2\n",
    "    for i in range(1,5):  \n",
    "        n**=3\n",
    "        yield n\n",
    "a=generator()\n",
    "\n",
    "print(next(a))\n",
    "print(next(a))  //calling only 2 times so the result is 2 times only not 4 times"
   ]
  },
  {
   "cell_type": "code",
   "execution_count": 2,
   "metadata": {},
   "outputs": [
    {
     "name": "stdout",
     "output_type": "stream",
     "text": [
      "8\n",
      "512\n",
      "134217728\n",
      "2417851639229258349412352\n",
      "14134776518227074636666380005943348126619871175004951664972849610340958208\n"
     ]
    }
   ],
   "source": [
    "# infinite repetition\n",
    "def generator():\n",
    "    n=2\n",
    "    while True:\n",
    "        n **= 3\n",
    "        yield n\n",
    "\n",
    "a = generator()\n",
    "\n",
    "for i in range(5):\n",
    "    print(next(a))\n"
   ]
  },
  {
   "cell_type": "code",
   "execution_count": null,
   "metadata": {},
   "outputs": [],
   "source": []
  }
 ],
 "metadata": {
  "kernelspec": {
   "display_name": "Python 3",
   "language": "python",
   "name": "python3"
  },
  "language_info": {
   "codemirror_mode": {
    "name": "ipython",
    "version": 3
   },
   "file_extension": ".py",
   "mimetype": "text/x-python",
   "name": "python",
   "nbconvert_exporter": "python",
   "pygments_lexer": "ipython3",
   "version": "3.7.3"
  }
 },
 "nbformat": 4,
 "nbformat_minor": 2
}
