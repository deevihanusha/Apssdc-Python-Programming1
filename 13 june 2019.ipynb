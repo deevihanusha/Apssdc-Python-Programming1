{
 "cells": [
  {
   "cell_type": "code",
   "execution_count": 6,
   "metadata": {},
   "outputs": [
    {
     "data": {
      "text/plain": [
       "'a is big'"
      ]
     },
     "execution_count": 6,
     "metadata": {},
     "output_type": "execute_result"
    }
   ],
   "source": [
    "def greatest4(a,b,c,d):\n",
    "    if a>b and a>c and a>d:\n",
    "        return(\"a is big\")\n",
    "    if b>c and b>d and b>a:\n",
    "        return(\"b is big\")\n",
    "    if c>d and c>b and c>a:\n",
    "        return(\"c is big\")\n",
    "    else:\n",
    "        return(\"d is big\")\n",
    "greatest4(121,34,5,7)"
   ]
  },
  {
   "cell_type": "code",
   "execution_count": null,
   "metadata": {},
   "outputs": [],
   "source": []
  }
 ],
 "metadata": {
  "kernelspec": {
   "display_name": "Python 3",
   "language": "python",
   "name": "python3"
  },
  "language_info": {
   "codemirror_mode": {
    "name": "ipython",
    "version": 3
   },
   "file_extension": ".py",
   "mimetype": "text/x-python",
   "name": "python",
   "nbconvert_exporter": "python",
   "pygments_lexer": "ipython3",
   "version": "3.7.3"
  }
 },
 "nbformat": 4,
 "nbformat_minor": 2
}
