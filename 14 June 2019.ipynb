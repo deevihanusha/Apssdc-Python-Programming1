{
 "cells": [
  {
   "cell_type": "markdown",
   "metadata": {},
   "source": [
    "## Day Objectives: 14 June 2019 --  Day 4\n",
    "* Python Data Structures\n",
    "    * Lists\n",
    "    * Tuples\n",
    "    * Dictionaries\n",
    "* Basic Problem set on Data Structure\n",
    "* Advanced Problem Set\n",
    "* Packages and modules in Python"
   ]
  },
  {
   "cell_type": "code",
   "execution_count": null,
   "metadata": {},
   "outputs": [],
   "source": []
  },
  {
   "cell_type": "markdown",
   "metadata": {},
   "source": [
    "## Python Data Structures\n",
    "    List"
   ]
  },
  {
   "cell_type": "code",
   "execution_count": 4,
   "metadata": {},
   "outputs": [
    {
     "data": {
      "text/plain": [
       "[547, 76578]"
      ]
     },
     "execution_count": 4,
     "metadata": {},
     "output_type": "execute_result"
    }
   ],
   "source": [
    "li = [1,2,3,4,5]\n",
    "li        # Accessing the entire list\n",
    "\n",
    "li[1]     # Accessing an element with index in a list\n",
    "\n",
    "li[1:]    # Access all elements from second element to end element\n",
    "\n",
    "li=li[::-1] # Reverse list with a same variable\n",
    "li\n",
    "\n",
    "li=li[::-1]\n",
    "li\n",
    "\n",
    "# Even index elements in a list\n",
    "li[::2]\n",
    "li[1::2]\n",
    "li[1]\n",
    "\n",
    "\n",
    "\n",
    "#Lists can be accessed, manipulated in two different ways\n",
    "        # Direct Referencing - [index]\n",
    "        # Indirect Referencing - through function\n",
    "li.append(6)\n",
    "li\n",
    "\n",
    "# adding an element at a particular index\n",
    "\n",
    "li.insert(1,0)\n",
    "li\n",
    "\n",
    "# Sort elements in ascending order\n",
    "li.sort()\n",
    "li\n",
    "\n",
    "#remove last element in a list\n",
    "li.pop() # displays the removed element\n",
    "li # displays the entire elements except removed number\n",
    "\n",
    "li.pop(2) # removes an element at a particular index\n",
    "li\n",
    "\n",
    "li2 = [4,5,6,7,8]\n",
    "li.extend(li2)\n",
    "li\n",
    "\n",
    "\n",
    "\n",
    "sum(li) # sum of elements in a list\n",
    "\n",
    "max(li) # Maximum element in a list\n",
    "\n",
    "len(li) # Number of elements in a list\n",
    "\n",
    "\n",
    "# average of list elements\n",
    "sum(li)/len(li)\n",
    "\n",
    "# Average of all alternative elements even\n",
    "a=li[::2]\n",
    "b=sum(a)/len(a)\n",
    "b\n",
    "max(li)-1\n",
    "b\n",
    "\n",
    "\n",
    "\n",
    "\n",
    "li2=[547,76578]\n",
    "li2"
   ]
  },
  {
   "cell_type": "markdown",
   "metadata": {},
   "source": [
    "## Task"
   ]
  },
  {
   "cell_type": "code",
   "execution_count": 2,
   "metadata": {},
   "outputs": [
    {
     "data": {
      "text/plain": [
       "4"
      ]
     },
     "execution_count": 2,
     "metadata": {},
     "output_type": "execute_result"
    }
   ],
   "source": [
    "#Function to identify the second largest element in that list\n",
    "        # Sort the data and select the second last element\n",
    "li=[1,2,3,4,5]\n",
    "def secondLargest(li):\n",
    "    a=max(li)\n",
    "    return li[-2]\n",
    "secondLargest(li)\n"
   ]
  },
  {
   "cell_type": "code",
   "execution_count": 15,
   "metadata": {},
   "outputs": [
    {
     "data": {
      "text/plain": [
       "2"
      ]
     },
     "execution_count": 15,
     "metadata": {},
     "output_type": "execute_result"
    }
   ],
   "source": [
    "# FUnction to search for data in a list\n",
    "# Search for the key in the list and return the index\n",
    "def linearSearch(li,key):\n",
    "    for index in range(0,len(li)):\n",
    "        if li[index] == key:\n",
    "            return index\n",
    "    return -1\n",
    "def linearSearch2(li,key):\n",
    "    for element in li:\n",
    "        if element== key:\n",
    "            return li.index(element)\n",
    "    return -1\n",
    "def linearSearch(li,key):\n",
    "    return \n",
    "linearSearch2(li,3)"
   ]
  },
  {
   "cell_type": "code",
   "execution_count": 18,
   "metadata": {},
   "outputs": [
    {
     "data": {
      "text/plain": [
       "2"
      ]
     },
     "execution_count": 18,
     "metadata": {},
     "output_type": "execute_result"
    }
   ],
   "source": [
    "#Function to count the occurences of a character in a string\n",
    "#\"Python Programming\",m --> 2 times repeated\n",
    "def occurenceofchar(s,c):\n",
    "    count=0\n",
    "    #for i in range(0,len(s)+1):\n",
    "    for i in s:\n",
    "        if i ==c:\n",
    "            count +=1\n",
    "    return count\n",
    "def occurenceofchar2(s,c):\n",
    "    return s.count(c)\n",
    "occurenceofchar(\"Python Programming\",'m')\n"
   ]
  },
  {
   "cell_type": "code",
   "execution_count": 1,
   "metadata": {},
   "outputs": [
    {
     "data": {
      "text/plain": [
       "['Python', 'Programming']"
      ]
     },
     "execution_count": 1,
     "metadata": {},
     "output_type": "execute_result"
    }
   ],
   "source": [
    "string=\"Python Programming\"\n",
    "a=string.split()\n",
    "a"
   ]
  },
  {
   "cell_type": "code",
   "execution_count": 26,
   "metadata": {},
   "outputs": [
    {
     "data": {
      "text/plain": [
       "4"
      ]
     },
     "execution_count": 26,
     "metadata": {},
     "output_type": "execute_result"
    }
   ],
   "source": [
    "# Function to find the number of occurances of substring\n",
    "#abcabcddcba , ab ->2\n",
    "def occuranceofsubstring(string,s):\n",
    "    count=0\n",
    "    for i in string:\n",
    "        if i==s:\n",
    "            count+=1\n",
    "    return count\n",
    "def occuranceofsubstring2(string,s):\n",
    "    return int(string.count(s)/2)\n",
    "occuranceofsubstring2(\"abcabababcgtaaaaa\",\"a\")"
   ]
  },
  {
   "cell_type": "code",
   "execution_count": null,
   "metadata": {},
   "outputs": [],
   "source": []
  }
 ],
 "metadata": {
  "kernelspec": {
   "display_name": "Python 3",
   "language": "python",
   "name": "python3"
  },
  "language_info": {
   "codemirror_mode": {
    "name": "ipython",
    "version": 3
   },
   "file_extension": ".py",
   "mimetype": "text/x-python",
   "name": "python",
   "nbconvert_exporter": "python",
   "pygments_lexer": "ipython3",
   "version": "3.7.3"
  }
 },
 "nbformat": 4,
 "nbformat_minor": 2
}
