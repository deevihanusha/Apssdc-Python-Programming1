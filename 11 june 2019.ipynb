{
 "cells": [
  {
   "cell_type": "markdown",
   "metadata": {},
   "source": [
    "## Markdown Basics\n",
    "\n",
    "* **BOLD**<br>\n",
    "* *Italic*<br>\n",
    "* ***IB*** <br>\n",
    "* **Normal Text**<br>\n",
    "    * Sublist 1\n",
    "    * Sublist 2\n",
    " \n",
    " \n",
    "\n",
    " 1. Ordered list element 1\n",
    " 2. Ordered list element 2\n",
    "\n",
    "\n",
    " A. Order\n",
    " B. Unordered\n",
    " \n",
    " [Jupyter Logo](jupyter.png)\n",
    " \n",
    " \n",
    " - [1]Option 1\n",
    " - [2]Option 2\n",
    " - [x] Option 3\n",
    " - [_]option 4\n",
    " \n",
    " <img src=\"jupyter.png\" style=\"float:left\">\n",
    " `printf(\"Hello Markdown\")`\n"
   ]
  },
  {
   "cell_type": "markdown",
   "metadata": {},
   "source": [
    "## Python Basics\n",
    "Python Version 3.7\n",
    "\n",
    "- Scriptig\n",
    "- Object oriented \n",
    "- Functional"
   ]
  },
  {
   "cell_type": "code",
   "execution_count": 15,
   "metadata": {},
   "outputs": [
    {
     "name": "stdout",
     "output_type": "stream",
     "text": [
      "Hello everyone !||Hello Python\n"
     ]
    }
   ],
   "source": [
    "#  Python comments\n",
    "\n",
    "print(\"Hello everyone\", \"!\", end=\"||\") # basic output\n",
    "print(\"Hello Python\")\n",
    "\n",
    "\n",
    "\n",
    "\n"
   ]
  },
  {
   "cell_type": "code",
   "execution_count": null,
   "metadata": {},
   "outputs": [],
   "source": []
  },
  {
   "cell_type": "markdown",
   "metadata": {},
   "source": [
    "## Assignment"
   ]
  },
  {
   "cell_type": "code",
   "execution_count": 20,
   "metadata": {},
   "outputs": [
    {
     "name": "stdout",
     "output_type": "stream",
     "text": [
      "123456\n",
      "120 11 233\n"
     ]
    },
    {
     "data": {
      "text/plain": [
       "233"
      ]
     },
     "execution_count": 20,
     "metadata": {},
     "output_type": "execute_result"
    }
   ],
   "source": [
    "n1=123456 # Single Variable Assignment\n",
    "\n",
    "n2=n3=n4=n5=n1 # Multi Variable Assignment \n",
    "\n",
    "#Multi Variable Assignment with Different Values\n",
    "a,b,c=120,11,233\n",
    "\n",
    "print(n5)\n",
    "print(a,b,c)\n",
    "a\n",
    "b\n",
    "c"
   ]
  },
  {
   "cell_type": "markdown",
   "metadata": {},
   "source": []
  },
  {
   "cell_type": "markdown",
   "metadata": {},
   "source": [
    "## Arithmetic Operators\n",
    " *   + \n",
    " *    - \n",
    " *   * \n",
    " *   / \n",
    " *   %<br>\n",
    " *  **\n"
   ]
  },
  {
   "cell_type": "code",
   "execution_count": 39,
   "metadata": {},
   "outputs": [
    {
     "data": {
      "text/plain": [
       "str"
      ]
     },
     "execution_count": 39,
     "metadata": {},
     "output_type": "execute_result"
    }
   ],
   "source": [
    "n1 % 11\n",
    "\n",
    "n3 = n2 ** 123456\n",
    "\n",
    "#type(n3)\n",
    "len(str(n3))\n",
    "\n",
    "atoms =10 ** 20\n",
    "len(str(atoms))\n",
    "type(str(atoms))"
   ]
  },
  {
   "cell_type": "code",
   "execution_count": null,
   "metadata": {},
   "outputs": [],
   "source": []
  },
  {
   "cell_type": "code",
   "execution_count": null,
   "metadata": {},
   "outputs": [],
   "source": []
  },
  {
   "cell_type": "markdown",
   "metadata": {},
   "source": [
    "### Condition Checking\n"
   ]
  },
  {
   "cell_type": "code",
   "execution_count": 43,
   "metadata": {},
   "outputs": [
    {
     "data": {
      "text/plain": [
       "True"
      ]
     },
     "execution_count": 43,
     "metadata": {},
     "output_type": "execute_result"
    }
   ],
   "source": [
    "atoms > 10 ** 9"
   ]
  },
  {
   "cell_type": "code",
   "execution_count": null,
   "metadata": {},
   "outputs": [],
   "source": []
  },
  {
   "cell_type": "markdown",
   "metadata": {},
   "source": [
    "### Data Types\n",
    "- int\n",
    "- float\n",
    "- string"
   ]
  },
  {
   "cell_type": "code",
   "execution_count": 53,
   "metadata": {},
   "outputs": [
    {
     "data": {
      "text/plain": [
       "55"
      ]
     },
     "execution_count": 53,
     "metadata": {},
     "output_type": "execute_result"
    }
   ],
   "source": [
    "type(a)\n",
    "s1=\"python\"\n",
    "type(s1)\n",
    "\n",
    "f1=12.34\n",
    "type(f1)\n",
    "int(f1)\n",
    "float(int(f1))\n",
    "\n",
    "n=1223321 ** 9\n",
    "len(str(n))"
   ]
  },
  {
   "cell_type": "code",
   "execution_count": 55,
   "metadata": {},
   "outputs": [
    {
     "name": "stdout",
     "output_type": "stream",
     "text": [
      "TRUE\n"
     ]
    }
   ],
   "source": [
    "if atoms < 10 ** 96:\n",
    "    print(\"TRUE\")\n",
    "else:\n",
    "    print(\"FALSE\")"
   ]
  },
  {
   "cell_type": "code",
   "execution_count": null,
   "metadata": {},
   "outputs": [],
   "source": []
  },
  {
   "cell_type": "code",
   "execution_count": 2,
   "metadata": {},
   "outputs": [
    {
     "name": "stdout",
     "output_type": "stream",
     "text": [
      "Even\n"
     ]
    }
   ],
   "source": [
    "#check if number is even\n",
    "n=12\n",
    "if n%2==0:\n",
    "    print(\"Even\")\n",
    "else:\n",
    "    print(\"odd\")\n"
   ]
  },
  {
   "cell_type": "code",
   "execution_count": 4,
   "metadata": {},
   "outputs": [
    {
     "name": "stdout",
     "output_type": "stream",
     "text": [
      "enter the first number-1\n",
      "enter the second number-5\n",
      "enter the three number-100\n",
      "-1 is the greatest number\n"
     ]
    }
   ],
   "source": [
    "# find the greatest of three numbers\n",
    "n1=int(input(\"enter the first number\"))  #n1,n2,n3=int(input()),int(input()),int(input())\n",
    "n2=int(input(\"enter the second number\"))\n",
    "n3=int(input(\"enter the three number\"))\n",
    "if n1>n2 and n1>n3:\n",
    "    print(n1,\"is the greatest number\")\n",
    "elif n2>n3 and n2>n1:\n",
    "    print(n2,\"is the greatest number\")\n",
    "else:\n",
    "    print(n3,\"is the greatest number\")"
   ]
  },
  {
   "cell_type": "code",
   "execution_count": 23,
   "metadata": {},
   "outputs": [
    {
     "name": "stdout",
     "output_type": "stream",
     "text": [
      "enter year1000\n",
      "1000 not leap year\n"
     ]
    }
   ],
   "source": [
    "# Check if a year is a leap year\n",
    "n=int(input(\"enter year\"))\n",
    "if n%400==0 or (n%100!=0 and n%4==0):\n",
    "    print(n,\"leap year\")\n",
    "else:\n",
    "    print(n,\"not leap year\")"
   ]
  },
  {
   "cell_type": "code",
   "execution_count": 33,
   "metadata": {},
   "outputs": [
    {
     "name": "stdout",
     "output_type": "stream",
     "text": [
      "the number exists in a range\n"
     ]
    }
   ],
   "source": [
    "#check if a number exists in a given range\n",
    "nl=762\n",
    "lowerbound=65\n",
    "upperbound=800\n",
    "if nl>=lowerbound and nl<=upperbound:\n",
    "    print(\"the number exists in a range\")\n",
    "else:\n",
    "    print(\"the number doesn't exist\")"
   ]
  },
  {
   "cell_type": "code",
   "execution_count": 29,
   "metadata": {},
   "outputs": [
    {
     "name": "stdout",
     "output_type": "stream",
     "text": [
      "7\n"
     ]
    }
   ],
   "source": [
    "#calculate the number of digits \n",
    "n1=1234567\n",
    "print(len(str(n1)))"
   ]
  },
  {
   "cell_type": "code",
   "execution_count": 20,
   "metadata": {},
   "outputs": [
    {
     "name": "stdout",
     "output_type": "stream",
     "text": [
      "enter the value255\n",
      "not divisible by 10 255\n"
     ]
    }
   ],
   "source": [
    "#check if a number is a multiple of 10\n",
    "n=int(input(\"enter the value\"))\n",
    "if n%10==0:\n",
    "    print(\"this number is divisible by 10\",n)\n",
    "else:\n",
    "    print(\"not divisible by 10\",n)"
   ]
  },
  {
   "cell_type": "code",
   "execution_count": 22,
   "metadata": {},
   "outputs": [
    {
     "name": "stdout",
     "output_type": "stream",
     "text": [
      "enter the value550\n",
      "not factorial for 1000 550\n"
     ]
    }
   ],
   "source": [
    "#Check if given number is a factorial of 1000\n",
    "n=int(input(\"enter the value\"))\n",
    "if 1000%n==0:\n",
    "    print(\"factorial for 1000\",n)\n",
    "else:\n",
    "    print(\"not factorial for 1000\",n)"
   ]
  },
  {
   "cell_type": "code",
   "execution_count": 28,
   "metadata": {},
   "outputs": [
    {
     "name": "stdout",
     "output_type": "stream",
     "text": [
      "equal\n"
     ]
    }
   ],
   "source": [
    "# check if given string is equal to a number\n",
    "n=\"12345\"\n",
    "n1=12345\n",
    "if str(n1)==n:\n",
    "    print(\"equal\")\n",
    "else:\n",
    "    print(\"not equal\")"
   ]
  },
  {
   "cell_type": "code",
   "execution_count": 27,
   "metadata": {},
   "outputs": [
    {
     "name": "stdout",
     "output_type": "stream",
     "text": [
      "enter n value9\n",
      "3.0\n"
     ]
    }
   ],
   "source": [
    "# calculate the square root of a number without functions\n",
    "n=int(input(\"enter n value\"))\n",
    "sr=n**0.5\n",
    "print(sr)"
   ]
  },
  {
   "cell_type": "code",
   "execution_count": 34,
   "metadata": {},
   "outputs": [
    {
     "name": "stdout",
     "output_type": "stream",
     "text": [
      "enter year2019\n",
      "31536000000000000\n"
     ]
    }
   ],
   "source": [
    "#Calculate the number of nano(10^9) seconds in a given year(considering leap year logic)\n",
    "year=int(input(\"enter year\"))\n",
    "if year % 400==0 or (year%100!=0 and year%4==0):\n",
    "    nano=366*24*60*60*(10**9)\n",
    "else:\n",
    "    nano=365*24*60*60*(10**9)\n",
    "print(nano)"
   ]
  },
  {
   "cell_type": "code",
   "execution_count": null,
   "metadata": {},
   "outputs": [],
   "source": []
  },
  {
   "cell_type": "code",
   "execution_count": null,
   "metadata": {},
   "outputs": [],
   "source": []
  }
 ],
 "metadata": {
  "kernelspec": {
   "display_name": "Python 3",
   "language": "python",
   "name": "python3"
  },
  "language_info": {
   "codemirror_mode": {
    "name": "ipython",
    "version": 3
   },
   "file_extension": ".py",
   "mimetype": "text/x-python",
   "name": "python",
   "nbconvert_exporter": "python",
   "pygments_lexer": "ipython3",
   "version": "3.7.3"
  }
 },
 "nbformat": 4,
 "nbformat_minor": 2
}
