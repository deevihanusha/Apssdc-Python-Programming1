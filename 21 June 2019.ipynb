{
 "cells": [
  {
   "cell_type": "code",
   "execution_count": 2,
   "metadata": {},
   "outputs": [
    {
     "ename": "NameError",
     "evalue": "name 'deevihanusha' is not defined",
     "output_type": "error",
     "traceback": [
      "\u001b[1;31m---------------------------------------------------------------------------\u001b[0m",
      "\u001b[1;31mNameError\u001b[0m                                 Traceback (most recent call last)",
      "\u001b[1;32m<ipython-input-2-d3a1a8338f92>\u001b[0m in \u001b[0;36m<module>\u001b[1;34m\u001b[0m\n\u001b[0;32m      9\u001b[0m     \u001b[0mprint\u001b[0m\u001b[1;33m(\u001b[0m\u001b[0mname\u001b[0m\u001b[1;33m,\u001b[0m \u001b[1;34m'added to contacts'\u001b[0m\u001b[1;33m)\u001b[0m\u001b[1;33m\u001b[0m\u001b[1;33m\u001b[0m\u001b[0m\n\u001b[0;32m     10\u001b[0m     \u001b[1;32mreturn\u001b[0m\u001b[1;33m\u001b[0m\u001b[1;33m\u001b[0m\u001b[0m\n\u001b[1;32m---> 11\u001b[1;33m \u001b[0maddContacts\u001b[0m\u001b[1;33m(\u001b[0m\u001b[1;34m\"hanu\"\u001b[0m\u001b[1;33m,\u001b[0m\u001b[1;36m7970980980\u001b[0m\u001b[1;33m,\u001b[0m\u001b[0mdeevihanusha\u001b[0m\u001b[1;33m@\u001b[0m\u001b[0mgmail\u001b[0m\u001b[1;33m.\u001b[0m\u001b[0mcom\u001b[0m\u001b[1;33m)\u001b[0m\u001b[1;33m\u001b[0m\u001b[1;33m\u001b[0m\u001b[0m\n\u001b[0m",
      "\u001b[1;31mNameError\u001b[0m: name 'deevihanusha' is not defined"
     ]
    }
   ],
   "source": [
    "#function to add contact to contacts text file\n",
    "from Packages import validator\n",
    "def addContacts(name,phone,email):\n",
    "    #store data as name,phone,email in the contacts list\n",
    "    filename=\"DataFiles/contacts.txt\"\n",
    "    with open(filename, 'a') as f:\n",
    "        line = name + ',' +phone + ',' +email + '\\n'\n",
    "        f.write(line)\n",
    "    print(name, 'added to contacts')\n",
    "    return\n",
    "addContacts(\"hanu\",7970980980,deevihanusha@gmail.com)\n"
   ]
  },
  {
   "cell_type": "code",
   "execution_count": 4,
   "metadata": {},
   "outputs": [
    {
     "name": "stdout",
     "output_type": "stream",
     "text": [
      "9581170037\n"
     ]
    },
    {
     "data": {
      "text/plain": [
       "True"
      ]
     },
     "execution_count": 4,
     "metadata": {},
     "output_type": "execute_result"
    }
   ],
   "source": [
    "import re\n",
    "def Phonenumber(num):\n",
    "    var='^[6-9][0-9]{9}$|^[0][6-9][0-9]{9}$|^[+][9][1][6-9][0-9]{9}$'\n",
    "    if re.match(var,num):\n",
    "        return True\n",
    "    else:\n",
    "        return False\n",
    "num=int(input())\n",
    "n=num.__str__()\n",
    "Phonenumber(n)"
   ]
  },
  {
   "cell_type": "code",
   "execution_count": 7,
   "metadata": {},
   "outputs": [
    {
     "name": "stdout",
     "output_type": "stream",
     "text": [
      "deevihanusha@gmail.com\n"
     ]
    },
    {
     "data": {
      "text/plain": [
       "True"
      ]
     },
     "execution_count": 7,
     "metadata": {},
     "output_type": "execute_result"
    }
   ],
   "source": [
    "import re\n",
    "def email_validate(email):\n",
    "    var='[a-zA-Z0-9][a-zA-Z0-9._]{4,14}[a-zA-Z0-9][@][0-9a-zA-Z]{2,14}[.][a-z]{2,4}'\n",
    "    if re.match(var,email):\n",
    "        return True\n",
    "    else:\n",
    "        return False\n",
    "email=input()\n",
    "email_validate(email)"
   ]
  },
  {
   "cell_type": "code",
   "execution_count": 3,
   "metadata": {},
   "outputs": [
    {
     "name": "stdout",
     "output_type": "stream",
     "text": [
      "roja\n",
      "roja doesn't exist\n"
     ]
    }
   ],
   "source": [
    "import re\n",
    "def Phonenumber(num):\n",
    "    var='^[6-9][0-9]{9}$|^[0][6-9][0-9]{9}$|^[+][9][1][6-9][0-9]{9}$'\n",
    "    if re.match(var,num):\n",
    "        return True\n",
    "    else:\n",
    "        return False\n",
    "#num=int(input())\n",
    "#n=num.__str__()\n",
    "#Phonenumber(n)\n",
    "\n",
    "def email_validate(email):\n",
    "    var='[a-zA-Z0-9][a-zA-Z0-9._]{4,14}[a-zA-Z0-9][@][0-9a-zA-Z]{2,14}[.][a-z]{2,4}'\n",
    "    if re.match(var,email):\n",
    "        return True\n",
    "    else:\n",
    "        return False\n",
    "#email=input()\n",
    "#email_validate(email)\n",
    "\n",
    "\n",
    "def listofcontacts(filename):\n",
    "    with open(filename,'r') as f:\n",
    "        data=f.readlines()\n",
    "        for line in data:\n",
    "            print(line,end=\"\")\n",
    "            \n",
    "def checkcontactexist(name,filename):\n",
    "    with open(filename,'r') as f:\n",
    "        data=f.read()\n",
    "        pattern=name+','\n",
    "    return re.match(pattern,data)\n",
    "\n",
    "\n",
    "def addContacts(filename,name,num,email):\n",
    "    if not checkcontactexist(name,filename):\n",
    "        phn=num.__str__()\n",
    "        if Phonenumber(phn) == True and email_validate(email) == True:\n",
    "            with open(filename,'a') as F:\n",
    "                line=name+','+phn+','+email+\"\\n\"\n",
    "                F.write(line)\n",
    "        print(\"\\n\",name,\"successfully added\")\n",
    "    else:\n",
    "        print(name,\"contact already exist\")\n",
    "filename='C:/Users/IIIT-rgukt/Desktop/problem solving programming in python - june-19 - L2/Apssdc-Python-Programming1/contacts.txt'\n",
    "#name=input()\n",
    "#num=int(input())\n",
    "#email=input()\n",
    "#listofcontacts(filename)\n",
    "#addContacts(filename,name,num,email)\n",
    "\n",
    "def search(filename,name):\n",
    "    if name in filename:\n",
    "        with open(filename,'r') as F:\n",
    "            data=F.readlines()\n",
    "            for line in data:\n",
    "                print(line,\"contact exist\")\n",
    "    else:\n",
    "        print(name,\"doesn't exist\")\n",
    "filename='C:/Users/IIIT-rgukt/Desktop/problem solving programming in python - june-19 - L2/Apssdc-Python-Programming1/contacts.txt'\n",
    "name=input()\n",
    "search(filename,name)"
   ]
  },
  {
   "cell_type": "code",
   "execution_count": null,
   "metadata": {},
   "outputs": [],
   "source": []
  }
 ],
 "metadata": {
  "kernelspec": {
   "display_name": "Python 3",
   "language": "python",
   "name": "python3"
  },
  "language_info": {
   "codemirror_mode": {
    "name": "ipython",
    "version": 3
   },
   "file_extension": ".py",
   "mimetype": "text/x-python",
   "name": "python",
   "nbconvert_exporter": "python",
   "pygments_lexer": "ipython3",
   "version": "3.7.3"
  }
 },
 "nbformat": 4,
 "nbformat_minor": 2
}
