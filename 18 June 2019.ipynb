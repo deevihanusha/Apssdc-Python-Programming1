{
 "cells": [
  {
   "cell_type": "markdown",
   "metadata": {},
   "source": [
    "# Tuples\n",
    "t1=()\n",
    "li= []\n",
    "\n",
    "\n",
    "Difference between Lists and Tuples\n",
    "Lists are mutable - can be changed / modified\n",
    "-Used to Access Modify,Add,Delete data\n",
    "\n",
    "Tuples are immutable - cannot be changed once initialised\n",
    "-Used to access data only\n"
   ]
  },
  {
   "cell_type": "code",
   "execution_count": null,
   "metadata": {},
   "outputs": [],
   "source": []
  },
  {
   "cell_type": "code",
   "execution_count": 8,
   "metadata": {},
   "outputs": [
    {
     "data": {
      "text/plain": [
       "(4, 5, 6)"
      ]
     },
     "execution_count": 8,
     "metadata": {},
     "output_type": "execute_result"
    }
   ],
   "source": [
    "t1=(1,2,3,4,5,6)\n",
    "t1[3] # Accessing the fourth Element\n",
    "\n",
    "\n",
    "# Accessing all elements from middle to last\n",
    "t1[4:]\n",
    "\n",
    "t1[len(t1)//2:]"
   ]
  },
  {
   "cell_type": "code",
   "execution_count": 9,
   "metadata": {},
   "outputs": [
    {
     "data": {
      "text/plain": [
       "tuple"
      ]
     },
     "execution_count": 9,
     "metadata": {},
     "output_type": "execute_result"
    }
   ],
   "source": [
    "type(t1)"
   ]
  },
  {
   "cell_type": "code",
   "execution_count": null,
   "metadata": {},
   "outputs": [],
   "source": []
  },
  {
   "cell_type": "markdown",
   "metadata": {},
   "source": [
    "# Dictionaries\n",
    "   * It works on the concept of Set\n",
    "   * Unique data \n",
    "   \n",
    "   **Keys , Values**\n",
    "   \n",
    "   * Key - Unique Idienfier for a value\n",
    "   * Value - Value is a data that can be accessed with a key"
   ]
  },
  {
   "cell_type": "code",
   "execution_count": null,
   "metadata": {},
   "outputs": [],
   "source": []
  },
  {
   "cell_type": "code",
   "execution_count": 11,
   "metadata": {},
   "outputs": [
    {
     "data": {
      "text/plain": [
       "{'name': 'hanusha'}"
      ]
     },
     "execution_count": 11,
     "metadata": {},
     "output_type": "execute_result"
    }
   ],
   "source": [
    "d1={\"name\":\"hanusha\"}\n",
    "d1"
   ]
  },
  {
   "cell_type": "code",
   "execution_count": 13,
   "metadata": {},
   "outputs": [
    {
     "data": {
      "text/plain": [
       "'value2'"
      ]
     },
     "execution_count": 13,
     "metadata": {},
     "output_type": "execute_result"
    }
   ],
   "source": [
    "d2={\"k1\":\"value1\", \"k2\":\"value2\"}\n",
    "d2[\"k2\"]   # Accessing the value with key \"k2\""
   ]
  },
  {
   "cell_type": "code",
   "execution_count": 28,
   "metadata": {},
   "outputs": [
    {
     "name": "stdout",
     "output_type": "stream",
     "text": [
      "A\n",
      "dict_keys([1, 2, 3])\n",
      "dict_keys(['k1', 'k2'])\n",
      "dict_values(['A', 'B', 'C'])\n",
      "dict_values(['value1', 'value2'])\n",
      "dict_items([(1, 'A'), (2, 'B'), (3, 'C')])\n",
      "dict_items([('k1', 'value1'), ('k2', 'value2')])\n"
     ]
    }
   ],
   "source": [
    "dict = {1:\"A\",2:\"B\",3:\"C\"}\n",
    "print(dict[1])\n",
    "\n",
    "print(dict.keys())  # returns list of all keys\n",
    "print(d2.keys())\n",
    "\n",
    "print(dict.values()) # returns list of all values\n",
    "print(d2.values())\n",
    "\n",
    "print(dict.items()) # returns list of tuples of keys and values\n",
    "print(d2.items())"
   ]
  },
  {
   "cell_type": "code",
   "execution_count": 29,
   "metadata": {},
   "outputs": [
    {
     "data": {
      "text/plain": [
       "{'k1': 'value1', 'k2': 'value2', 'k3': 'value3'}"
      ]
     },
     "execution_count": 29,
     "metadata": {},
     "output_type": "execute_result"
    }
   ],
   "source": [
    "d2[\"k3\"] = \"value3\"   # Adding an element to the dictionary\n",
    "d2"
   ]
  },
  {
   "cell_type": "code",
   "execution_count": 31,
   "metadata": {},
   "outputs": [
    {
     "data": {
      "text/plain": [
       "{'k1': 'value1', 'k2': 'value2', 'k3': 'value4'}"
      ]
     },
     "execution_count": 31,
     "metadata": {},
     "output_type": "execute_result"
    }
   ],
   "source": [
    "d2[\"k3\"] = \"value4\" # Updating and element (value) but we can't change the key\n",
    "d2 "
   ]
  },
  {
   "cell_type": "code",
   "execution_count": 32,
   "metadata": {},
   "outputs": [
    {
     "data": {
      "text/plain": [
       "{'k1': 'value1', 'k2': 'value2'}"
      ]
     },
     "execution_count": 32,
     "metadata": {},
     "output_type": "execute_result"
    }
   ],
   "source": [
    "d2.pop(\"k3\")  # Removing an element\n",
    "d2 "
   ]
  },
  {
   "cell_type": "code",
   "execution_count": 34,
   "metadata": {},
   "outputs": [
    {
     "data": {
      "text/plain": [
       "True"
      ]
     },
     "execution_count": 34,
     "metadata": {},
     "output_type": "execute_result"
    }
   ],
   "source": [
    "\"k2\" in d2"
   ]
  },
  {
   "cell_type": "markdown",
   "metadata": {},
   "source": [
    "# Contacts Application\n",
    "- Add Contact\n",
    "- Search for contact\n",
    "- List all contacts\n",
    "    - name1 : phone1\n",
    "    - name2 : phone2\n",
    "- Modify contact\n",
    "- Remove contact"
   ]
  },
  {
   "cell_type": "code",
   "execution_count": null,
   "metadata": {},
   "outputs": [],
   "source": [
    "contacts={}\n",
    "def addcontact(name,phone):\n",
    "    \n",
    "    # verify that the contact doesn't already exist\n",
    "    if name not in contacts:\n",
    "        contacts[name]=phone\n",
    "        print(\"Contact %s is added\" %name)\n",
    "    else:\n",
    "        print(\"contact %s already exists\" %name)\n",
    "    return\n",
    "n=int(input())\n",
    "name=input()\n",
    "phone=int(input())\n",
    "for i in range(0,n+1):\n",
    "    addcontacts(name,phone)"
   ]
  },
  {
   "cell_type": "code",
   "execution_count": 5,
   "metadata": {},
   "outputs": [
    {
     "name": "stdout",
     "output_type": "stream",
     "text": [
      "hanusha : 2356798234546\n"
     ]
    }
   ],
   "source": [
    "def searchContacts(name):\n",
    "    if name in contacts:\n",
    "        print(name, \":\" , contacts[name])\n",
    "    else:\n",
    "        print(\"%s name doesn't exist\" %name)\n",
    "    return\n",
    "searchContacts(\"hanusha\")"
   ]
  },
  {
   "cell_type": "code",
   "execution_count": 8,
   "metadata": {},
   "outputs": [
    {
     "data": {
      "text/plain": [
       "True"
      ]
     },
     "execution_count": 8,
     "metadata": {},
     "output_type": "execute_result"
    }
   ],
   "source": [
    "\"hanu\" in contacts"
   ]
  },
  {
   "cell_type": "code",
   "execution_count": null,
   "metadata": {},
   "outputs": [],
   "source": [
    "def importContacts(newContacts):\n",
    "   contacts.update(newContacts)\n",
    "   print(len(newContacts.keys()), \"Contacts added\"):\n",
    "         return\n",
    "         \n",
    "newContacts = {\"name2\":9876543210, \"name3\": 654321}\n",
    "         \n",
    "importContacts(newContacts)"
   ]
  },
  {
   "cell_type": "code",
   "execution_count": null,
   "metadata": {},
   "outputs": [],
   "source": [
    "contact={}\n",
    "c=1\n",
    "while(c==1):\n",
    "    print(\"1. Add Contact \\n 2.Search Contact \\n 3.List of contact \\n 4.Modify Contact \\n 5. Remove Contact\")\n",
    "    n=int(input())\n",
    "    if n==1:\n",
    "        name=input(\"ENter the name\")\n",
    "        phone=int(input(\"enter phn number\"))\n",
    "        contact[name]=phone\n",
    "    elif n==2:\n",
    "        name=input(\"enter name\")\n",
    "        print(contact[name])\n",
    "    elif n==3:\n",
    "        for key,value in contact.items():\n",
    "            print(key,\" : \",value)\n",
    "    elif n==4:\n",
    "        name=input(\"enter name\")\n",
    "        phone=int(input(\"enter phn number\"))\n",
    "        contact[name]=phone\n",
    "    elif n==5:\n",
    "        name=input(\"enter name\")\n",
    "        phone=int(input(\"enter phn number\"))\n",
    "        contact.pop(\"name\")\n",
    "    print(\"enter 1 to continue \\n enter 0 to exit\")\n",
    "    c=int(input(\"enter any option\"))"
   ]
  },
  {
   "cell_type": "code",
   "execution_count": null,
   "metadata": {},
   "outputs": [],
   "source": []
  },
  {
   "cell_type": "markdown",
   "metadata": {},
   "source": [
    "### Packages and Modules\n",
    "**Package** -> Collection of modules(Python File.py)\n",
    "**Sub-Package** --> \n",
    "**Module** -> A Single Python file containing different functions\n",
    "\n",
    "Package->Subpackage ->modules->functions"
   ]
  },
  {
   "cell_type": "code",
   "execution_count": 3,
   "metadata": {},
   "outputs": [
    {
     "name": "stdout",
     "output_type": "stream",
     "text": [
      "123\n",
      "3.141592653589793\n"
     ]
    }
   ],
   "source": [
    "import math\n",
    "\n",
    "print(math.floor(123.456))\n",
    "print(math.pi)"
   ]
  },
  {
   "cell_type": "code",
   "execution_count": 12,
   "metadata": {},
   "outputs": [
    {
     "name": "stdout",
     "output_type": "stream",
     "text": [
      "123\n",
      "3.141592653589793\n"
     ]
    }
   ],
   "source": [
    "# Second method using math module\n",
    "from math import floor, pi\n",
    "print(floor(123.456))\n",
    "print(pi)"
   ]
  },
  {
   "cell_type": "code",
   "execution_count": 13,
   "metadata": {},
   "outputs": [
    {
     "data": {
      "text/plain": [
       "123"
      ]
     },
     "execution_count": 13,
     "metadata": {},
     "output_type": "execute_result"
    }
   ],
   "source": [
    "from math import floor as fl\n",
    "fl(123.456)"
   ]
  },
  {
   "cell_type": "code",
   "execution_count": 14,
   "metadata": {},
   "outputs": [
    {
     "data": {
      "text/plain": [
       "76"
      ]
     },
     "execution_count": 14,
     "metadata": {},
     "output_type": "execute_result"
    }
   ],
   "source": [
    "# Function to generate N random numbers\n",
    "import random \n",
    "#def generate N Random Numbers(n):\n",
    "random.randint(0,100)"
   ]
  },
  {
   "cell_type": "code",
   "execution_count": 17,
   "metadata": {},
   "outputs": [
    {
     "name": "stdout",
     "output_type": "stream",
     "text": [
      "98 61 76 75 8 81 95 35 43 62 "
     ]
    }
   ],
   "source": [
    "import random \n",
    "def generateNRandomNumbers(n,start,end):\n",
    "    for i in range(0,n):\n",
    "        print(random.randint(start,end), end=\" \")\n",
    "generateNRandomNumbers(10,0,100)"
   ]
  },
  {
   "cell_type": "code",
   "execution_count": 31,
   "metadata": {},
   "outputs": [
    {
     "data": {
      "text/plain": [
       "True"
      ]
     },
     "execution_count": 31,
     "metadata": {},
     "output_type": "execute_result"
    }
   ],
   "source": [
    "# build our own package / module\n",
    "from Packages import numerical\n",
    "\n",
    "numerical.isPrime(3)"
   ]
  },
  {
   "cell_type": "code",
   "execution_count": 24,
   "metadata": {},
   "outputs": [
    {
     "data": {
      "text/plain": [
       "False"
      ]
     },
     "execution_count": 24,
     "metadata": {},
     "output_type": "execute_result"
    }
   ],
   "source": [
    "from Packages.numerical import isPrime\n",
    "isPrime(105)"
   ]
  },
  {
   "cell_type": "code",
   "execution_count": null,
   "metadata": {},
   "outputs": [],
   "source": []
  }
 ],
 "metadata": {
  "kernelspec": {
   "display_name": "Python 3",
   "language": "python",
   "name": "python3"
  },
  "language_info": {
   "codemirror_mode": {
    "name": "ipython",
    "version": 3
   },
   "file_extension": ".py",
   "mimetype": "text/x-python",
   "name": "python",
   "nbconvert_exporter": "python",
   "pygments_lexer": "ipython3",
   "version": "3.7.3"
  }
 },
 "nbformat": 4,
 "nbformat_minor": 2
}
