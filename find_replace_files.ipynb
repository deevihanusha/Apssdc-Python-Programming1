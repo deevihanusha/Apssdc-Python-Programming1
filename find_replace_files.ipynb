{
 "cells": [
  {
   "cell_type": "code",
   "execution_count": 1,
   "metadata": {},
   "outputs": [
    {
     "name": "stdout",
     "output_type": "stream",
     "text": [
      "Enter the word which you want to remove this\n",
      "We have  0 words to replace\n",
      "enter the new worddis\n",
      "\n",
      "Successfully replaced\n",
      "\n"
     ]
    }
   ],
   "source": [
    "# Find and replace application\n",
    "\n",
    "def unique_word_count(filename,word):\n",
    "    c=0\n",
    "    with open(filename,'r') as f:\n",
    "        for line in f:\n",
    "            words=line.split(\" \")\n",
    "            for i in range(0,len(words),1):\n",
    "                if words[i]==word or words[i]==word+\"\\n\":\n",
    "                    c=c+1\n",
    "    print(\"We have \",c,\"words to replace\")\n",
    "    return c\n",
    "    \n",
    "def replace_word(filename,word,rword):\n",
    "    with open(filename,'r+') as f:\n",
    "        data=f.readlines()\n",
    "        f.seek(0)\n",
    "        for line in data:\n",
    "            if word not in line:\n",
    "                f.write(line)\n",
    "                #print(line)\n",
    "            else:\n",
    "                s=line.split()\n",
    "                for j in range(0,len(s),1):\n",
    "                    if word==s[j]:\n",
    "                        s[j]=rword\n",
    "                s=\" \".join(s)\n",
    "                #print(s)\n",
    "                f.write(s+\"\\n\")\n",
    "        f.truncate()\n",
    "    print(\"\\nSuccessfully replaced\\n\")\n",
    "        \n",
    "\n",
    "filename=\"data1.txt\"\n",
    "word=input(\"Enter the word which you want to remove \")\n",
    "unique_word_count(filename,word)\n",
    "rword=input(\"enter the new word\")\n",
    "replace_word(filename,word,rword)\n"
   ]
  },
  {
   "cell_type": "code",
   "execution_count": null,
   "metadata": {},
   "outputs": [],
   "source": []
  }
 ],
 "metadata": {
  "kernelspec": {
   "display_name": "Python 3",
   "language": "python",
   "name": "python3"
  },
  "language_info": {
   "codemirror_mode": {
    "name": "ipython",
    "version": 3
   },
   "file_extension": ".py",
   "mimetype": "text/x-python",
   "name": "python",
   "nbconvert_exporter": "python",
   "pygments_lexer": "ipython3",
   "version": "3.7.3"
  }
 },
 "nbformat": 4,
 "nbformat_minor": 2
}
